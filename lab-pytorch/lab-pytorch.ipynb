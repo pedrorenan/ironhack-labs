{
 "cells": [
  {
   "cell_type": "markdown",
   "id": "49b68a6a-8d82-4210-8c0a-0a6eaa49f62e",
   "metadata": {},
   "source": [
    "# Pytorch exercises"
   ]
  },
  {
   "cell_type": "code",
   "execution_count": 150,
   "id": "99081ec9",
   "metadata": {},
   "outputs": [],
   "source": [
    "import torch"
   ]
  },
  {
   "cell_type": "markdown",
   "id": "1094e566-47c6-4ab1-9035-a023efd5fb43",
   "metadata": {},
   "source": [
    "Exercise 1: Write a PyTorch code to create a tensor of size (3, 3) filled with random values between 0 and 1."
   ]
  },
  {
   "cell_type": "code",
   "execution_count": 151,
   "id": "43b0f609",
   "metadata": {},
   "outputs": [
    {
     "name": "stdout",
     "output_type": "stream",
     "text": [
      "tensor([[0.4734, 0.6310, 0.2188],\n",
      "        [0.2526, 0.5885, 0.0344],\n",
      "        [0.7868, 0.7681, 0.2280]])\n"
     ]
    }
   ],
   "source": [
    "tensor1 = torch.rand(3,3)\n",
    "print(tensor1)"
   ]
  },
  {
   "cell_type": "markdown",
   "id": "9098d6da-dab2-4295-8800-1144dc621aa1",
   "metadata": {},
   "source": [
    "Exercise 2:\n",
    "Create a tensor of size (5, 2) filled with zeros."
   ]
  },
  {
   "cell_type": "code",
   "execution_count": 152,
   "id": "63a45a6d",
   "metadata": {},
   "outputs": [
    {
     "name": "stdout",
     "output_type": "stream",
     "text": [
      "tensor([[1., 1.],\n",
      "        [1., 1.],\n",
      "        [1., 1.],\n",
      "        [1., 1.],\n",
      "        [1., 1.]])\n"
     ]
    }
   ],
   "source": [
    "tensor2 = torch.ones(5,2)\n",
    "print(tensor2)"
   ]
  },
  {
   "cell_type": "markdown",
   "id": "20f77911-49bc-4086-9dcc-6e59543a2216",
   "metadata": {},
   "source": [
    "Exercise 3:\n",
    "Implement a PyTorch code to multiply two tensors of size (2, 3) and (3, 4) respectively."
   ]
  },
  {
   "cell_type": "code",
   "execution_count": 153,
   "id": "72d8afa1",
   "metadata": {},
   "outputs": [
    {
     "name": "stdout",
     "output_type": "stream",
     "text": [
      "tensor([[0.6200, 0.5335, 0.2438, 1.1498],\n",
      "        [0.6555, 0.9992, 0.3351, 1.3074]])\n"
     ]
    }
   ],
   "source": [
    "tensor3_1 = torch.rand(2,3)\n",
    "tensor3_2 = torch.rand(3,4)\n",
    "tensor3 = torch.mm(tensor3_1, tensor3_2)\n",
    "print(tensor3)"
   ]
  },
  {
   "cell_type": "markdown",
   "id": "b7e71a2d-8c07-49d6-bde9-f40628bff3f5",
   "metadata": {},
   "source": [
    "Exercise 4:\n",
    "Create a PyTorch tensor with values ranging from 5 to 10."
   ]
  },
  {
   "cell_type": "code",
   "execution_count": 154,
   "id": "cf420096",
   "metadata": {},
   "outputs": [
    {
     "name": "stdout",
     "output_type": "stream",
     "text": [
      "tensor([ 5.0000,  5.0505,  5.1010,  5.1515,  5.2020,  5.2525,  5.3030,  5.3535,\n",
      "         5.4040,  5.4545,  5.5051,  5.5556,  5.6061,  5.6566,  5.7071,  5.7576,\n",
      "         5.8081,  5.8586,  5.9091,  5.9596,  6.0101,  6.0606,  6.1111,  6.1616,\n",
      "         6.2121,  6.2626,  6.3131,  6.3636,  6.4141,  6.4646,  6.5152,  6.5657,\n",
      "         6.6162,  6.6667,  6.7172,  6.7677,  6.8182,  6.8687,  6.9192,  6.9697,\n",
      "         7.0202,  7.0707,  7.1212,  7.1717,  7.2222,  7.2727,  7.3232,  7.3737,\n",
      "         7.4242,  7.4747,  7.5253,  7.5758,  7.6263,  7.6768,  7.7273,  7.7778,\n",
      "         7.8283,  7.8788,  7.9293,  7.9798,  8.0303,  8.0808,  8.1313,  8.1818,\n",
      "         8.2323,  8.2828,  8.3333,  8.3838,  8.4343,  8.4848,  8.5354,  8.5859,\n",
      "         8.6364,  8.6869,  8.7374,  8.7879,  8.8384,  8.8889,  8.9394,  8.9899,\n",
      "         9.0404,  9.0909,  9.1414,  9.1919,  9.2424,  9.2929,  9.3434,  9.3939,\n",
      "         9.4444,  9.4949,  9.5455,  9.5960,  9.6465,  9.6970,  9.7475,  9.7980,\n",
      "         9.8485,  9.8990,  9.9495, 10.0000])\n"
     ]
    }
   ],
   "source": [
    "tensor4 = torch.linspace(5, 10, 100)\n",
    "print(tensor4)"
   ]
  },
  {
   "cell_type": "markdown",
   "id": "f97b337b-6277-42d2-b3e3-fd8a0afe9d34",
   "metadata": {},
   "source": [
    "Exercise 5:\n",
    "Write a PyTorch code to compute the mean of a tensor."
   ]
  },
  {
   "cell_type": "code",
   "execution_count": 155,
   "id": "c411ad21",
   "metadata": {},
   "outputs": [
    {
     "name": "stdout",
     "output_type": "stream",
     "text": [
      "tensor(7.5000)\n"
     ]
    }
   ],
   "source": [
    "# compute the mean of a tensor\n",
    "mean = tensor4.mean()\n",
    "print(mean)"
   ]
  },
  {
   "cell_type": "markdown",
   "id": "6d9025a2-86df-469e-905d-5ae2189d2882",
   "metadata": {},
   "source": [
    "Exercise 6:\n",
    "Implement a PyTorch code to compute the element-wise product of two tensors of the same size."
   ]
  },
  {
   "cell_type": "code",
   "execution_count": 156,
   "id": "9de63ada",
   "metadata": {},
   "outputs": [
    {
     "name": "stdout",
     "output_type": "stream",
     "text": [
      "tensor([[0.7201, 0.8300, 0.0829],\n",
      "        [0.8489, 0.2125, 0.7578],\n",
      "        [0.2016, 0.4628, 0.1708]])\n",
      "tensor([[0.5802, 0.7585, 0.0291],\n",
      "        [0.9858, 0.0861, 0.7968],\n",
      "        [0.5222, 0.3729, 0.7332]])\n",
      "tensor([[0.4178, 0.6295, 0.0024],\n",
      "        [0.8368, 0.0183, 0.6038],\n",
      "        [0.1053, 0.1726, 0.1252]])\n"
     ]
    }
   ],
   "source": [
    "tensor6_1 = torch.rand(3,3)\n",
    "tensor6_2 = torch.rand(3,3)\n",
    "tensor6 = torch.mul(tensor6_1, tensor6_2)\n",
    "print(tensor6_1)\n",
    "print(tensor6_2)\n",
    "print(tensor6)"
   ]
  },
  {
   "cell_type": "markdown",
   "id": "6f5d4a20-f9fb-440a-92fa-14c7232954cf",
   "metadata": {},
   "source": [
    "Exercise 7:\n",
    "Create a PyTorch tensor with values sampled from a normal distribution with mean 0 and standard deviation 1."
   ]
  },
  {
   "cell_type": "code",
   "execution_count": 157,
   "id": "a9b69800",
   "metadata": {},
   "outputs": [
    {
     "name": "stdout",
     "output_type": "stream",
     "text": [
      "tensor([[0.9467, 0.2328, 0.9432],\n",
      "        [0.1918, 0.3203, 0.4998],\n",
      "        [0.7851, 0.6974, 0.2141]])\n"
     ]
    }
   ],
   "source": [
    "tensor7 = torch.rand(3,3)\n",
    "print(tensor7)"
   ]
  },
  {
   "cell_type": "markdown",
   "id": "eaaf5142-be8b-41fe-9f5f-93d76a865c95",
   "metadata": {},
   "source": [
    "Exercise 8:\n",
    "Write a PyTorch code to find the maximum value in a tensor."
   ]
  },
  {
   "cell_type": "code",
   "execution_count": 158,
   "id": "1da32094",
   "metadata": {},
   "outputs": [
    {
     "name": "stdout",
     "output_type": "stream",
     "text": [
      "tensor(0.9467)\n"
     ]
    }
   ],
   "source": [
    "# find the maximum value in a tensor\n",
    "max_val = tensor7.max()\n",
    "print(max_val)"
   ]
  },
  {
   "cell_type": "markdown",
   "id": "a0fafddc-7d69-40f0-ac39-ac6f8efd463f",
   "metadata": {},
   "source": [
    "Exercise 9:\n",
    "Implement a PyTorch code to compute the cross entropy loss between predicted values and target values."
   ]
  },
  {
   "cell_type": "code",
   "execution_count": 159,
   "id": "1eef427c",
   "metadata": {},
   "outputs": [
    {
     "name": "stdout",
     "output_type": "stream",
     "text": [
      "tensor(2.1459)\n"
     ]
    }
   ],
   "source": [
    "predicted = torch.rand(3,3)\n",
    "target = torch.rand(3,3)\n",
    "loss = torch.nn.functional.cross_entropy(predicted, target)\n",
    "print(loss)\n"
   ]
  },
  {
   "cell_type": "markdown",
   "id": "f884a16c-5af5-4d98-9567-19832a24df1a",
   "metadata": {},
   "source": [
    "Exercise 10: Create a PyTorch tensor and then convert it to a NumPy array."
   ]
  },
  {
   "cell_type": "code",
   "execution_count": 160,
   "id": "a40ff463",
   "metadata": {},
   "outputs": [
    {
     "name": "stdout",
     "output_type": "stream",
     "text": [
      "tensor([[0.5817, 0.3640, 0.6217],\n",
      "        [0.7850, 0.2557, 0.4314],\n",
      "        [0.2188, 0.3241, 0.8629]])\n",
      "[[0.5816709  0.36401016 0.6217043 ]\n",
      " [0.7850225  0.25574678 0.4313851 ]\n",
      " [0.21878028 0.32407737 0.8629124 ]]\n"
     ]
    }
   ],
   "source": [
    "tensor10 = torch.rand(3,3)\n",
    "print(tensor10)\n",
    "numpy_array = tensor10.numpy()\n",
    "print(numpy_array)\n"
   ]
  },
  {
   "cell_type": "markdown",
   "id": "b184819f-0ecb-4a45-a3c2-e8ab40219709",
   "metadata": {},
   "source": [
    "Exercise 11:\n",
    "Write a PyTorch code to perform a matrix transpose operation on a tensor."
   ]
  },
  {
   "cell_type": "code",
   "execution_count": 161,
   "id": "4738df01",
   "metadata": {},
   "outputs": [
    {
     "name": "stdout",
     "output_type": "stream",
     "text": [
      "tensor([[1, 2, 3],\n",
      "        [4, 5, 6],\n",
      "        [7, 8, 9]])\n",
      "tensor([[1, 4, 7],\n",
      "        [2, 5, 8],\n",
      "        [3, 6, 9]])\n"
     ]
    }
   ],
   "source": [
    "tensor11 = torch.tensor([[1, 2, 3],\n",
    "                       [4, 5, 6],\n",
    "                       [7, 8, 9]])\n",
    "\n",
    "transposed_tensor11 = tensor11.t()\n",
    "print(tensor11)\n",
    "print(transposed_tensor11)\n"
   ]
  },
  {
   "cell_type": "markdown",
   "id": "aba9c7e6-954a-4afb-8892-9cc876e1a31c",
   "metadata": {},
   "source": [
    "Exercise 12:\n",
    "Implement a PyTorch code to concatenate two tensors along a specified dimension."
   ]
  },
  {
   "cell_type": "code",
   "execution_count": 162,
   "id": "574abf93",
   "metadata": {},
   "outputs": [
    {
     "name": "stdout",
     "output_type": "stream",
     "text": [
      "tensor([[ 1,  2,  3],\n",
      "        [ 4,  5,  6],\n",
      "        [ 7,  8,  9],\n",
      "        [10, 11, 12],\n",
      "        [13, 14, 15],\n",
      "        [16, 17, 18]])\n",
      "tensor([[ 1,  2,  3, 10, 11, 12],\n",
      "        [ 4,  5,  6, 13, 14, 15],\n",
      "        [ 7,  8,  9, 16, 17, 18]])\n"
     ]
    }
   ],
   "source": [
    "tensor12_1 = torch.tensor([[1, 2, 3],\n",
    "                           [4, 5, 6],\n",
    "                           [7, 8, 9]])\n",
    "tensor12_2 = torch.tensor([[10, 11, 12],\n",
    "                           [13, 14, 15],\n",
    "                           [16, 17, 18]])\n",
    "tensor12_rows = torch.cat((tensor12_1, tensor12_2), 0)\n",
    "tensor12_columns = torch.cat((tensor12_1, tensor12_2), 1)\n",
    "\n",
    "print(tensor12_rows)\n",
    "print(tensor12_columns)"
   ]
  },
  {
   "cell_type": "markdown",
   "id": "d5cb17dc-1092-475d-b1a8-e788125d8cae",
   "metadata": {},
   "source": [
    "Exercise 13:\n",
    "Create a PyTorch tensor and then convert it to a CUDA tensor if CUDA is available."
   ]
  },
  {
   "cell_type": "code",
   "execution_count": 163,
   "id": "19681664",
   "metadata": {},
   "outputs": [
    {
     "name": "stdout",
     "output_type": "stream",
     "text": [
      "CUDA is not available.\n",
      "tensor([[0.1125, 0.4956, 0.4749],\n",
      "        [0.3417, 0.9210, 0.6632],\n",
      "        [0.1052, 0.1251, 0.1574]])\n"
     ]
    }
   ],
   "source": [
    "tensor13 = torch.rand(3,3)\n",
    "\n",
    "if torch.cuda.is_available():\n",
    "    cuda_tensor13 = tensor13.to('cuda')\n",
    "    print(\"CUDA is available.\")\n",
    "    print(cuda_tensor13)\n",
    "else:\n",
    "    print(\"CUDA is not available.\")\n",
    "    print(tensor13)\n"
   ]
  },
  {
   "cell_type": "markdown",
   "id": "5f18a6ee-691d-480b-ae73-d4e1fa118add",
   "metadata": {},
   "source": [
    "Exercise 14:\n",
    "Write a PyTorch code to find the indices of non-zero elements in a tensor."
   ]
  },
  {
   "cell_type": "code",
   "execution_count": 164,
   "id": "d9b820eb",
   "metadata": {},
   "outputs": [
    {
     "name": "stdout",
     "output_type": "stream",
     "text": [
      "tensor([[1, 0, 3],\n",
      "        [0, 0, 6],\n",
      "        [7, 8, 0]])\n",
      "tensor([[0, 0],\n",
      "        [0, 2],\n",
      "        [1, 2],\n",
      "        [2, 0],\n",
      "        [2, 1]])\n"
     ]
    }
   ],
   "source": [
    "tensor14 = torch.tensor([[1, 0, 3],\n",
    "                       [0, 0, 6],\n",
    "                       [7, 8, 0]])\n",
    "\n",
    "non_zero_tensor14 = torch.nonzero(tensor14)\n",
    "\n",
    "print(tensor14)\n",
    "print(non_zero_tensor14)\n"
   ]
  },
  {
   "cell_type": "markdown",
   "id": "57417899-4ff0-466f-9b33-6a2a11161e02",
   "metadata": {},
   "source": [
    "Exercise 15:\n",
    "Implement a PyTorch code to perform element-wise exponentiation on a tensor."
   ]
  },
  {
   "cell_type": "code",
   "execution_count": 165,
   "id": "893e96a0",
   "metadata": {},
   "outputs": [
    {
     "name": "stdout",
     "output_type": "stream",
     "text": [
      "tensor([[1, 2, 3],\n",
      "        [4, 5, 6],\n",
      "        [7, 8, 9]])\n",
      "tensor([[2.7183e+00, 7.3891e+00, 2.0086e+01],\n",
      "        [5.4598e+01, 1.4841e+02, 4.0343e+02],\n",
      "        [1.0966e+03, 2.9810e+03, 8.1031e+03]])\n"
     ]
    }
   ],
   "source": [
    "tensor15 = torch.tensor([[1, 2, 3],\n",
    "                          [4, 5, 6],\n",
    "                          [7, 8, 9]])\n",
    "exp_tensor15 = torch.exp(tensor15)\n",
    "print(tensor15)\n",
    "print(exp_tensor15)\n"
   ]
  },
  {
   "cell_type": "markdown",
   "id": "535fa4bd-67fe-4fd8-aa8d-e854f2590558",
   "metadata": {},
   "source": [
    "Exercise 16:\n",
    "Create a PyTorch tensor and then reshape it into a tensor of different dimensions."
   ]
  },
  {
   "cell_type": "code",
   "execution_count": 166,
   "id": "80c2ada4",
   "metadata": {},
   "outputs": [
    {
     "name": "stdout",
     "output_type": "stream",
     "text": [
      "tensor([[1, 2, 3, 4, 5, 6]])\n",
      "tensor([[1, 2, 3],\n",
      "        [4, 5, 6]])\n"
     ]
    }
   ],
   "source": [
    "tensor16 = torch.tensor([[1, 2, 3, 4, 5, 6]])\n",
    "tensor16_reshaped = tensor16.view(2, 3)\n",
    "print(tensor16)\n",
    "print(tensor16_reshaped)"
   ]
  },
  {
   "cell_type": "markdown",
   "id": "4e7b7502-e668-4567-a8b3-5f6bc840beb2",
   "metadata": {},
   "source": [
    "Exercise 17:\n",
    "Write a PyTorch code to compute the cosine similarity between two tensors."
   ]
  },
  {
   "cell_type": "code",
   "execution_count": 167,
   "id": "63325bdf",
   "metadata": {},
   "outputs": [
    {
     "name": "stdout",
     "output_type": "stream",
     "text": [
      "tensor([0.9746])\n"
     ]
    }
   ],
   "source": [
    "import torch.nn.functional as F\n",
    "\n",
    "tensor17_1 = torch.tensor([1.0, 2.0, 3.0])\n",
    "tensor17_2 = torch.tensor([4.0, 5.0, 6.0])\n",
    "\n",
    "tensor17_1 = tensor17_1.unsqueeze(0)\n",
    "tensor17_2 = tensor17_2.unsqueeze(0)\n",
    "\n",
    "cosine_tensor17 = F.cosine_similarity(tensor17_1, tensor17_2)\n",
    "print(cosine_tensor17)"
   ]
  },
  {
   "cell_type": "markdown",
   "id": "d13b01c7-00b0-4e05-a233-3e1177a88f86",
   "metadata": {},
   "source": [
    "Exercise 18: Implement a PyTorch code to perform element-wise logarithm on a tensor."
   ]
  },
  {
   "cell_type": "code",
   "execution_count": 168,
   "id": "c5ec40f1",
   "metadata": {},
   "outputs": [
    {
     "name": "stdout",
     "output_type": "stream",
     "text": [
      "tensor([[1, 2, 3],\n",
      "        [4, 5, 6],\n",
      "        [7, 8, 9]])\n",
      "tensor([[0.0000, 0.6931, 1.0986],\n",
      "        [1.3863, 1.6094, 1.7918],\n",
      "        [1.9459, 2.0794, 2.1972]])\n"
     ]
    }
   ],
   "source": [
    "tensor18 = torch.tensor([[1, 2, 3],\n",
    "                         [4, 5, 6],\n",
    "                         [7, 8, 9]])\n",
    "log_tensor18 = torch.log(tensor18)\n",
    "print(tensor18)\n",
    "print(log_tensor18)"
   ]
  },
  {
   "cell_type": "markdown",
   "id": "f12264f6-d86c-42ca-ab15-6ae5162321e3",
   "metadata": {},
   "source": [
    "Exercise 19:\n",
    "Create a PyTorch tensor and then calculate its standard deviation."
   ]
  },
  {
   "cell_type": "code",
   "execution_count": 169,
   "id": "1e80264c",
   "metadata": {},
   "outputs": [
    {
     "name": "stdout",
     "output_type": "stream",
     "text": [
      "tensor([[1., 2., 3.],\n",
      "        [4., 5., 6.],\n",
      "        [7., 8., 9.]])\n",
      "tensor(2.7386)\n"
     ]
    }
   ],
   "source": [
    "tensor19 = torch.tensor([[1.0, 2.0, 3.0],\n",
    "                         [4.0, 5.0, 6.0],\n",
    "                         [7.0, 8.0, 9.0]])\n",
    "std_tensor19 = torch.std(tensor19)\n",
    "print(tensor19)\n",
    "print(std_tensor19)"
   ]
  },
  {
   "cell_type": "markdown",
   "id": "da281285-f8ba-4020-ba33-dfeb3524f29c",
   "metadata": {},
   "source": [
    "Exercice 20: Write a PyTorch code to compute the Frobenius norm of a tensor."
   ]
  },
  {
   "cell_type": "code",
   "execution_count": 170,
   "id": "8bd27eee-8270-43d0-a785-9acdbd6424d1",
   "metadata": {},
   "outputs": [
    {
     "name": "stdout",
     "output_type": "stream",
     "text": [
      "tensor([[1., 2., 3.],\n",
      "        [4., 5., 6.],\n",
      "        [7., 8., 9.]])\n",
      "tensor(16.8819)\n"
     ]
    }
   ],
   "source": [
    "tensor20 = torch.tensor([[1.0, 2.0, 3.0],\n",
    "                         [4.0, 5.0, 6.0],\n",
    "                         [7.0, 8.0, 9.0]])\n",
    "frobenius_tensor20 = torch.norm(tensor20, p='fro')\n",
    "print(tensor20)\n",
    "print(frobenius_tensor20)"
   ]
  }
 ],
 "metadata": {
  "kernelspec": {
   "display_name": "Python 3 (ipykernel)",
   "language": "python",
   "name": "python3"
  },
  "language_info": {
   "codemirror_mode": {
    "name": "ipython",
    "version": 3
   },
   "file_extension": ".py",
   "mimetype": "text/x-python",
   "name": "python",
   "nbconvert_exporter": "python",
   "pygments_lexer": "ipython3",
   "version": "3.11.7"
  }
 },
 "nbformat": 4,
 "nbformat_minor": 5
}
