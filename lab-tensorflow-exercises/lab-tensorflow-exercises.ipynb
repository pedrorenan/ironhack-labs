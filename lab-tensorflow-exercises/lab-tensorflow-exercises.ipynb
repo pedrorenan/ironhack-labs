{
 "cells": [
  {
   "cell_type": "markdown",
   "id": "3a5cebdd-8051-4e1d-83e0-b4acf1449c1c",
   "metadata": {},
   "source": [
    "# Tensorflow exercices"
   ]
  },
  {
   "cell_type": "code",
   "execution_count": 54,
   "id": "687f1edd",
   "metadata": {},
   "outputs": [],
   "source": [
    "import tensorflow as tf"
   ]
  },
  {
   "cell_type": "markdown",
   "id": "9b7ac934-4d62-469e-8385-7cd0f9129f22",
   "metadata": {},
   "source": [
    "Exercise 1: Create a TensorFlow constant tensor with values [1, 2, 3, 4, 5]."
   ]
  },
  {
   "cell_type": "code",
   "execution_count": 55,
   "id": "fefe3811",
   "metadata": {},
   "outputs": [
    {
     "name": "stdout",
     "output_type": "stream",
     "text": [
      "tf.Tensor([1 2 3 4 5], shape=(5,), dtype=int32)\n"
     ]
    }
   ],
   "source": [
    "tensor1 = tf.constant([1, 2, 3, 4, 5])\n",
    "print(tensor1)"
   ]
  },
  {
   "cell_type": "markdown",
   "id": "a6aebc47-b310-4d2e-8ac9-21ce00410cec",
   "metadata": {},
   "source": [
    "Exercise 2: Create a TensorFlow variable tensor initialized with zeros of shape (3, 3)."
   ]
  },
  {
   "cell_type": "code",
   "execution_count": 56,
   "id": "bfe4afd3",
   "metadata": {},
   "outputs": [
    {
     "name": "stdout",
     "output_type": "stream",
     "text": [
      "<tf.Variable 'Variable:0' shape=(3, 3) dtype=float32, numpy=\n",
      "array([[0., 0., 0.],\n",
      "       [0., 0., 0.],\n",
      "       [0., 0., 0.]], dtype=float32)>\n"
     ]
    }
   ],
   "source": [
    "tensor2 = tf.Variable(tf.zeros((3,3)))\n",
    "print(tensor2)"
   ]
  },
  {
   "cell_type": "markdown",
   "id": "e60991d8-79e7-48c5-8f28-6190f62a0ed3",
   "metadata": {},
   "source": [
    "Exercise 3: Perform matrix multiplication of two TensorFlow constant tensors A and B."
   ]
  },
  {
   "cell_type": "code",
   "execution_count": 57,
   "id": "d3210e1b",
   "metadata": {},
   "outputs": [
    {
     "name": "stdout",
     "output_type": "stream",
     "text": [
      "tf.Tensor(\n",
      "[[19 22]\n",
      " [43 50]], shape=(2, 2), dtype=int32)\n"
     ]
    }
   ],
   "source": [
    "tensorA = tf.constant([[1, 2], [3, 4]])\n",
    "tensorB = tf.constant([[5, 6], [7, 8]])\n",
    "tensor3 = tf.matmul(tensorA, tensorB)\n",
    "print(tensor3)\n"
   ]
  },
  {
   "cell_type": "markdown",
   "id": "7fd7d031-c20b-48ee-82a9-227c9ce109ea",
   "metadata": {},
   "source": [
    "Exercise 4: Create a TensorFlow placeholder for a scalar value."
   ]
  },
  {
   "cell_type": "code",
   "execution_count": 58,
   "id": "d5df48f8",
   "metadata": {},
   "outputs": [
    {
     "name": "stdout",
     "output_type": "stream",
     "text": [
      "tf.Tensor(6.0, shape=(), dtype=float32)\n"
     ]
    }
   ],
   "source": [
    "def scalar_function(scalar):\n",
    "    return scalar * 2\n",
    "\n",
    "tensor4 = scalar_function(tf.constant(3.0))\n",
    "\n",
    "print(tensor4)"
   ]
  },
  {
   "cell_type": "markdown",
   "id": "6ccf6ee2-3c4e-4ed1-822d-9843419936bb",
   "metadata": {},
   "source": [
    "Exercise 5: Define a TensorFlow operation to compute the element-wise product of two tensors."
   ]
  },
  {
   "cell_type": "code",
   "execution_count": 59,
   "id": "db6f62a7",
   "metadata": {},
   "outputs": [
    {
     "name": "stdout",
     "output_type": "stream",
     "text": [
      "tf.Tensor(\n",
      "[[ 7 16 27]\n",
      " [40 55 72]], shape=(2, 3), dtype=int32)\n"
     ]
    }
   ],
   "source": [
    "tensor5_1 = tf.constant(([1, 2, 3], [4, 5, 6]))\n",
    "tensor5_2 = tf.constant(([7, 8, 9], [10, 11, 12]))\n",
    "tensor5 = tf.multiply(tensor5_1, tensor5_2)\n",
    "\n",
    "print(tensor5)"
   ]
  },
  {
   "cell_type": "markdown",
   "id": "87ca09f9-7976-4d21-b32d-94e25488ad59",
   "metadata": {},
   "source": [
    "Exercise 6: Create a TensorFlow graph to compute the mean of a given tensor along a specified axis."
   ]
  },
  {
   "cell_type": "code",
   "execution_count": 60,
   "id": "54457e06",
   "metadata": {},
   "outputs": [
    {
     "name": "stdout",
     "output_type": "stream",
     "text": [
      "tf.Tensor([2.5 3.5 4.5], shape=(3,), dtype=float32)\n"
     ]
    }
   ],
   "source": [
    "tensor6_1 = tf.constant([[1, 2, 3], [4, 5, 6]], dtype=tf.float32)\n",
    "tensor6 = tf.reduce_mean(tensor6_1, axis=0) \n",
    "print(tensor6)\n",
    "\n"
   ]
  },
  {
   "cell_type": "markdown",
   "id": "51602021-3f03-4ab4-bdfc-fbc3dca0e321",
   "metadata": {},
   "source": [
    "Exercise 7: Implement a simple linear regression model using TensorFlow."
   ]
  },
  {
   "cell_type": "code",
   "execution_count": 61,
   "id": "b32f831f",
   "metadata": {},
   "outputs": [
    {
     "name": "stdout",
     "output_type": "stream",
     "text": [
      "epoch: 0 loss: 12.949217\n",
      "epoch: 100 loss: 0.02239507\n",
      "epoch: 200 loss: 0.010212734\n",
      "epoch: 300 loss: 0.009386919\n",
      "epoch: 400 loss: 0.009330942\n",
      "epoch: 500 loss: 0.009327148\n",
      "epoch: 600 loss: 0.009326889\n",
      "epoch: 700 loss: 0.009326873\n",
      "epoch: 800 loss: 0.0093268715\n",
      "epoch: 900 loss: 0.00932687\n",
      "W = 2.990286350250244, b = 2.0077221393585205\n"
     ]
    }
   ],
   "source": [
    "import numpy as np\n",
    "\n",
    "np.random.seed(0)\n",
    "x = np.random.rand(1000).astype(np.float32)\n",
    "y = 3.0 * x + 2.0 + np.random.normal(scale=0.1, size=1000)\n",
    "W = tf.Variable(0.0)\n",
    "b = tf.Variable(0.0)\n",
    "learning_rate = 0.1\n",
    "optimizer = tf.optimizers.SGD(learning_rate)\n",
    "epochs = 1000\n",
    "for epoch in range(epochs):\n",
    "    with tf.GradientTape() as tape:\n",
    "        y_pred = W * x + b\n",
    "        loss = tf.reduce_mean(tf.square(y - y_pred))\n",
    "        \n",
    "    gradients = tape.gradient(loss, [W, b])\n",
    "    optimizer.apply_gradients(zip(gradients, [W, b]))\n",
    "    if epoch % 100 == 0:\n",
    "        print(\"epoch:\", epoch, \"loss:\", loss.numpy())\n",
    "\n",
    "print(f\"W = {W.numpy()}, b = {b.numpy()}\")        "
   ]
  },
  {
   "cell_type": "markdown",
   "id": "3abe932c-332d-48d9-a98d-64d98d3e7127",
   "metadata": {},
   "source": [
    "Exercise 8: Create a TensorFlow dataset from a NumPy array."
   ]
  },
  {
   "cell_type": "code",
   "execution_count": 62,
   "id": "e92f9601",
   "metadata": {},
   "outputs": [
    {
     "name": "stdout",
     "output_type": "stream",
     "text": [
      "<_TensorSliceDataset element_spec=TensorSpec(shape=(), dtype=tf.float32, name=None)>\n"
     ]
    }
   ],
   "source": [
    "np.random.seed(0)\n",
    "data = np.random.rand(100).astype(np.float32)\n",
    "\n",
    "dataset = tf.data.Dataset.from_tensor_slices(data)\n",
    "\n",
    "print(dataset)\n"
   ]
  },
  {
   "cell_type": "markdown",
   "id": "546d0040-6c83-430d-af7f-afadd22e03c2",
   "metadata": {},
   "source": [
    "Exercise 9: Define a custom TensorFlow function using tf.function decorator."
   ]
  },
  {
   "cell_type": "code",
   "execution_count": 63,
   "id": "9c2b98d0",
   "metadata": {},
   "outputs": [
    {
     "name": "stdout",
     "output_type": "stream",
     "text": [
      "tf.Tensor(4, shape=(), dtype=int32)\n",
      "tf.Tensor(0, shape=(), dtype=int32)\n"
     ]
    }
   ],
   "source": [
    "@tf.function\n",
    "def square_if_positive(x):\n",
    "    if x > 0:\n",
    "        x = x * x\n",
    "    else:\n",
    "        x = 0\n",
    "    return x\n",
    "\n",
    "x = tf.constant(2)\n",
    "y = tf.constant(-2)\n",
    "print(square_if_positive(x))\n",
    "print(square_if_positive(y))"
   ]
  },
  {
   "cell_type": "markdown",
   "id": "c9b39e03-dfea-42af-8821-fb950df430b1",
   "metadata": {},
   "source": [
    "Exercise 10: Load and preprocess an image using TensorFlow."
   ]
  },
  {
   "cell_type": "code",
   "execution_count": 64,
   "id": "453b77cd",
   "metadata": {},
   "outputs": [
    {
     "data": {
      "image/png": "[encoded data removed]",
      "text/plain": [
       "<Figure size 640x480 with 1 Axes>"
      ]
     },
     "metadata": {},
     "output_type": "display_data"
    }
   ],
   "source": [
    "import requests\n",
    "import matplotlib.pyplot as plt\n",
    "\n",
    "\n",
    "image_url = 'https://seeklogo.com/images/I/ironhack-logo-F751CF4738-seeklogo.com.png'\n",
    "\n",
    "img_data = requests.get(image_url).content\n",
    "\n",
    "image = tf.image.decode_image(img_data, channels=4)\n",
    "\n",
    "image = tf.image.resize(image, [224, 224])\n",
    "\n",
    "image = image / 255.0\n",
    "\n",
    "plt.imshow(image.numpy())\n",
    "plt.axis('off')\n",
    "plt.show()\n"
   ]
  },
  {
   "cell_type": "markdown",
   "id": "4a60fc5d-b32b-45df-8dca-696de227947f",
   "metadata": {},
   "source": [
    "Exercise 11: Neural Network\n",
    "Build and train a neural network with one hidden layer on the MNIST dataset."
   ]
  },
  {
   "cell_type": "code",
   "execution_count": 65,
   "id": "fa4818c6-449d-4f26-8b81-fcc67789a5c2",
   "metadata": {},
   "outputs": [
    {
     "name": "stdout",
     "output_type": "stream",
     "text": [
      "Epoch 1/10\n",
      "\u001b[1m1650/1650\u001b[0m \u001b[32m━━━━━━━━━━━━━━━━━━━━\u001b[0m\u001b[37m\u001b[0m \u001b[1m3s\u001b[0m 2ms/step - accuracy: 0.8714 - loss: 0.4510 - val_accuracy: 0.9663 - val_loss: 0.1282\n",
      "Epoch 2/10\n",
      "\u001b[1m1650/1650\u001b[0m \u001b[32m━━━━━━━━━━━━━━━━━━━━\u001b[0m\u001b[37m\u001b[0m \u001b[1m3s\u001b[0m 2ms/step - accuracy: 0.9637 - loss: 0.1252 - val_accuracy: 0.9735 - val_loss: 0.0989\n",
      "Epoch 3/10\n",
      "\u001b[1m1650/1650\u001b[0m \u001b[32m━━━━━━━━━━━━━━━━━━━━\u001b[0m\u001b[37m\u001b[0m \u001b[1m2s\u001b[0m 1ms/step - accuracy: 0.9745 - loss: 0.0846 - val_accuracy: 0.9731 - val_loss: 0.0947\n",
      "Epoch 4/10\n",
      "\u001b[1m1650/1650\u001b[0m \u001b[32m━━━━━━━━━━━━━━━━━━━━\u001b[0m\u001b[37m\u001b[0m \u001b[1m3s\u001b[0m 2ms/step - accuracy: 0.9821 - loss: 0.0596 - val_accuracy: 0.9724 - val_loss: 0.0939\n",
      "Epoch 5/10\n",
      "\u001b[1m1650/1650\u001b[0m \u001b[32m━━━━━━━━━━━━━━━━━━━━\u001b[0m\u001b[37m\u001b[0m \u001b[1m2s\u001b[0m 1ms/step - accuracy: 0.9856 - loss: 0.0483 - val_accuracy: 0.9776 - val_loss: 0.0827\n",
      "Epoch 6/10\n",
      "\u001b[1m1650/1650\u001b[0m \u001b[32m━━━━━━━━━━━━━━━━━━━━\u001b[0m\u001b[37m\u001b[0m \u001b[1m2s\u001b[0m 1ms/step - accuracy: 0.9907 - loss: 0.0338 - val_accuracy: 0.9785 - val_loss: 0.0825\n",
      "Epoch 7/10\n",
      "\u001b[1m1650/1650\u001b[0m \u001b[32m━━━━━━━━━━━━━━━━━━━━\u001b[0m\u001b[37m\u001b[0m \u001b[1m2s\u001b[0m 1ms/step - accuracy: 0.9925 - loss: 0.0254 - val_accuracy: 0.9749 - val_loss: 0.0904\n",
      "Epoch 8/10\n",
      "\u001b[1m1650/1650\u001b[0m \u001b[32m━━━━━━━━━━━━━━━━━━━━\u001b[0m\u001b[37m\u001b[0m \u001b[1m2s\u001b[0m 1ms/step - accuracy: 0.9928 - loss: 0.0233 - val_accuracy: 0.9768 - val_loss: 0.0924\n",
      "Epoch 9/10\n",
      "\u001b[1m1650/1650\u001b[0m \u001b[32m━━━━━━━━━━━━━━━━━━━━\u001b[0m\u001b[37m\u001b[0m \u001b[1m3s\u001b[0m 2ms/step - accuracy: 0.9943 - loss: 0.0176 - val_accuracy: 0.9786 - val_loss: 0.0863\n",
      "Epoch 10/10\n",
      "\u001b[1m1650/1650\u001b[0m \u001b[32m━━━━━━━━━━━━━━━━━━━━\u001b[0m\u001b[37m\u001b[0m \u001b[1m3s\u001b[0m 2ms/step - accuracy: 0.9962 - loss: 0.0134 - val_accuracy: 0.9776 - val_loss: 0.1015\n",
      "\u001b[1m313/313\u001b[0m \u001b[32m━━━━━━━━━━━━━━━━━━━━\u001b[0m\u001b[37m\u001b[0m \u001b[1m0s\u001b[0m 860us/step - accuracy: 0.9712 - loss: 0.1005\n",
      "Test accuracy: 0.9769999980926514 Test loss: 0.08223413676023483\n"
     ]
    }
   ],
   "source": [
    "from tensorflow.keras import layers, models\n",
    "\n",
    "\n",
    "mnist = tf.keras.datasets.mnist\n",
    "(x_train, y_train), (x_test, y_test) = mnist.load_data()\n",
    "x_train, x_test = x_train / 255.0, x_test / 255.0\n",
    "model = tf.keras.models.Sequential([\n",
    "    layers.Input(shape=(28, 28)),\n",
    "    layers.Flatten(), \n",
    "    layers.Dense(128, activation='relu'),\n",
    "    layers.Dense(10, activation='softmax')\n",
    "])\n",
    "model.compile(optimizer='adam', loss='sparse_categorical_crossentropy', metrics=['accuracy'])\n",
    "model.fit(x_train, y_train, epochs=10, validation_split=0.12)\n",
    "test_loss, test_acc = model.evaluate(x_test, y_test)\n",
    "print(f\"Test accuracy: {test_acc} Test loss: {test_loss}\")"
   ]
  }
 ],
 "metadata": {
  "kernelspec": {
   "display_name": "Python 3 (ipykernel)",
   "language": "python",
   "name": "python3"
  },
  "language_info": {
   "codemirror_mode": {
    "name": "ipython",
    "version": 3
   },
   "file_extension": ".py",
   "mimetype": "text/x-python",
   "name": "python",
   "nbconvert_exporter": "python",
   "pygments_lexer": "ipython3",
   "version": "3.11.7"
  }
 },
 "nbformat": 4,
 "nbformat_minor": 5
}
