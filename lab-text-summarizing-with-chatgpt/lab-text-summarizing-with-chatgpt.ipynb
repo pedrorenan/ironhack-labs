{
 "cells": [
  {
   "cell_type": "markdown",
   "metadata": {},
   "source": [
    "# Text summarizing with ChaptGPT\n",
    "In this lesson, you will summarize text with a focus on specific topics.\n",
    "\n",
    "## Setup"
   ]
  },
  {
   "cell_type": "code",
   "execution_count": 1,
   "metadata": {
    "tags": []
   },
   "outputs": [],
   "source": [
    "from openai import OpenAI\n",
    "import os\n",
    "\n",
    "from dotenv import load_dotenv, find_dotenv\n",
    "_ = load_dotenv(find_dotenv()) # read local .env file\n",
    "\n",
    "OPENAI_API_KEY  = os.getenv('OPENAI_API_KEY')"
   ]
  },
  {
   "cell_type": "code",
   "execution_count": 35,
   "metadata": {
    "tags": []
   },
   "outputs": [],
   "source": [
    "client = OpenAI(\n",
    "    # This is the default and can be omitted\n",
    "    api_key=OPENAI_API_KEY,\n",
    ")\n",
    "\n",
    "\n",
    "def get_completion(prompt, model=\"gpt-3.5-turbo\", temperature=0): # Andrew mentioned that the prompt/ completion paradigm is preferable for this class\n",
    "    messages = [{\"role\": \"user\", \"content\": prompt}]\n",
    "    response = client.chat.completions.create(\n",
    "        model=model,\n",
    "        messages=messages,\n",
    "        temperature=temperature, # this is the degree of randomness of the model's output\n",
    "    )\n",
    "    return response.choices[0].message.content\n"
   ]
  },
  {
   "cell_type": "markdown",
   "metadata": {},
   "source": [
    "## Text to summarize"
   ]
  },
  {
   "cell_type": "code",
   "execution_count": 3,
   "metadata": {
    "tags": []
   },
   "outputs": [],
   "source": [
    "prod_review = \"\"\"\n",
    "Got this panda plush toy for my daughter's birthday, \\\n",
    "who loves it and takes it everywhere. It's soft and \\ \n",
    "super cute, and its face has a friendly look. It's \\ \n",
    "a bit small for what I paid though. I think there \\ \n",
    "might be other options that are bigger for the \\ \n",
    "same price. It arrived a day earlier than expected, \\ \n",
    "so I got to play with it myself before I gave it \\ \n",
    "to her.\n",
    "\"\"\""
   ]
  },
  {
   "cell_type": "markdown",
   "metadata": {},
   "source": [
    "## Summarize with a word/sentence/character limit"
   ]
  },
  {
   "cell_type": "code",
   "execution_count": 4,
   "metadata": {
    "tags": []
   },
   "outputs": [
    {
     "name": "stdout",
     "output_type": "stream",
     "text": [
      "```\n",
      "Cute panda plush toy, soft and loved by daughter. Smaller than expected for the price. Arrived early, enjoyable to play with.\n",
      "```\n"
     ]
    }
   ],
   "source": [
    "prompt = f\"\"\"\n",
    "Your task is to generate a short summary of a product \\\n",
    "review from an ecommerce site. \n",
    "\n",
    "Summarize the review below, delimited by triple \n",
    "backticks, in at most 30 words. \n",
    "\n",
    "Review: ```{prod_review}```\n",
    "\"\"\"\n",
    "\n",
    "response = get_completion(prompt)\n",
    "print(response)\n"
   ]
  },
  {
   "cell_type": "markdown",
   "metadata": {},
   "source": [
    "## Summarize with a focus on shipping and delivery"
   ]
  },
  {
   "cell_type": "code",
   "execution_count": 5,
   "metadata": {
    "tags": []
   },
   "outputs": [
    {
     "name": "stdout",
     "output_type": "stream",
     "text": [
      "The customer was pleased with the early delivery of the panda plush toy, but felt it was slightly small for the price paid.\n"
     ]
    }
   ],
   "source": [
    "prompt = f\"\"\"\n",
    "Your task is to generate a short summary of a product \\\n",
    "review from an ecommerce site to give feedback to the \\\n",
    "Shipping deparmtment. \n",
    "\n",
    "Summarize the review below, delimited by triple \n",
    "backticks, in at most 30 words, and focusing on any aspects \\\n",
    "that mention shipping and delivery of the product. \n",
    "\n",
    "Review: ```{prod_review}```\n",
    "\"\"\"\n",
    "\n",
    "response = get_completion(prompt)\n",
    "print(response)\n"
   ]
  },
  {
   "cell_type": "markdown",
   "metadata": {},
   "source": [
    "## Summarize with a focus on price and value"
   ]
  },
  {
   "cell_type": "code",
   "execution_count": 6,
   "metadata": {
    "tags": []
   },
   "outputs": [
    {
     "name": "stdout",
     "output_type": "stream",
     "text": [
      "The panda plush toy is loved for its softness and cuteness, but some customers feel it's a bit small for the price.\n"
     ]
    }
   ],
   "source": [
    "prompt = f\"\"\"\n",
    "Your task is to generate a short summary of a product \\\n",
    "review from an ecommerce site to give feedback to the \\\n",
    "pricing deparmtment, responsible for determining the \\\n",
    "price of the product.  \n",
    "\n",
    "Summarize the review below, delimited by triple \n",
    "backticks, in at most 30 words, and focusing on any aspects \\\n",
    "that are relevant to the price and perceived value. \n",
    "\n",
    "Review: ```{prod_review}```\n",
    "\"\"\"\n",
    "\n",
    "response = get_completion(prompt)\n",
    "print(response)\n"
   ]
  },
  {
   "cell_type": "markdown",
   "metadata": {},
   "source": [
    "#### Comment\n",
    "- Summaries include topics that are not related to the topic of focus."
   ]
  },
  {
   "cell_type": "markdown",
   "metadata": {},
   "source": [
    "## Try \"extract\" instead of \"summarize\""
   ]
  },
  {
   "cell_type": "code",
   "execution_count": 48,
   "metadata": {
    "tags": []
   },
   "outputs": [
    {
     "name": "stdout",
     "output_type": "stream",
     "text": [
      "Feedback: The shipping was faster than expected, arriving a day early. Customer suggests offering larger options for the same price.\n"
     ]
    }
   ],
   "source": [
    "prompt = f\"\"\"\n",
    "Your task is to extract relevant information from \\ \n",
    "a product review from an ecommerce site to give \\\n",
    "feedback to the Shipping department. \n",
    "\n",
    "From the review below, delimited by triple quotes \\\n",
    "extract the information relevant to shipping and \\ \n",
    "delivery. Limit to 30 words. \n",
    "\n",
    "Review: ```{prod_review}```\n",
    "\"\"\"\n",
    "\n",
    "response = get_completion(prompt)\n",
    "print(response)"
   ]
  },
  {
   "cell_type": "markdown",
   "metadata": {},
   "source": [
    "## Summarize multiple product reviews"
   ]
  },
  {
   "cell_type": "code",
   "execution_count": 7,
   "metadata": {
    "tags": []
   },
   "outputs": [],
   "source": [
    "\n",
    "review_1 = prod_review \n",
    "\n",
    "# review for a standing lamp\n",
    "review_2 = \"\"\"\n",
    "Needed a nice lamp for my bedroom, and this one \\\n",
    "had additional storage and not too high of a price \\\n",
    "point. Got it fast - arrived in 2 days. The string \\\n",
    "to the lamp broke during the transit and the company \\\n",
    "happily sent over a new one. Came within a few days \\\n",
    "as well. It was easy to put together. Then I had a \\\n",
    "missing part, so I contacted their support and they \\\n",
    "very quickly got me the missing piece! Seems to me \\\n",
    "to be a great company that cares about their customers \\\n",
    "and products. \n",
    "\"\"\"\n",
    "\n",
    "# review for an electric toothbrush\n",
    "review_3 = \"\"\"\n",
    "My dental hygienist recommended an electric toothbrush, \\\n",
    "which is why I got this. The battery life seems to be \\\n",
    "pretty impressive so far. After initial charging and \\\n",
    "leaving the charger plugged in for the first week to \\\n",
    "condition the battery, I've unplugged the charger and \\\n",
    "been using it for twice daily brushing for the last \\\n",
    "3 weeks all on the same charge. But the toothbrush head \\\n",
    "is too small. I’ve seen baby toothbrushes bigger than \\\n",
    "this one. I wish the head was bigger with different \\\n",
    "length bristles to get between teeth better because \\\n",
    "this one doesn’t.  Overall if you can get this one \\\n",
    "around the $50 mark, it's a good deal. The manufactuer's \\\n",
    "replacements heads are pretty expensive, but you can \\\n",
    "get generic ones that're more reasonably priced. This \\\n",
    "toothbrush makes me feel like I've been to the dentist \\\n",
    "every day. My teeth feel sparkly clean! \n",
    "\"\"\"\n",
    "\n",
    "# review for a blender\n",
    "review_4 = \"\"\"\n",
    "So, they still had the 17 piece system on seasonal \\\n",
    "sale for around $49 in the month of November, about \\\n",
    "half off, but for some reason (call it price gouging) \\\n",
    "around the second week of December the prices all went \\\n",
    "up to about anywhere from between $70-$89 for the same \\\n",
    "system. And the 11 piece system went up around $10 or \\\n",
    "so in price also from the earlier sale price of $29. \\\n",
    "So it looks okay, but if you look at the base, the part \\\n",
    "where the blade locks into place doesn’t look as good \\\n",
    "as in previous editions from a few years ago, but I \\\n",
    "plan to be very gentle with it (example, I crush \\\n",
    "very hard items like beans, ice, rice, etc. in the \\ \n",
    "blender first then pulverize them in the serving size \\\n",
    "I want in the blender then switch to the whipping \\\n",
    "blade for a finer flour, and use the cross cutting blade \\\n",
    "first when making smoothies, then use the flat blade \\\n",
    "if I need them finer/less pulpy). Special tip when making \\\n",
    "smoothies, finely cut and freeze the fruits and \\\n",
    "vegetables (if using spinach-lightly stew soften the \\ \n",
    "spinach then freeze until ready for use-and if making \\\n",
    "sorbet, use a small to medium sized food processor) \\ \n",
    "that you plan to use that way you can avoid adding so \\\n",
    "much ice if at all-when making your smoothie. \\\n",
    "After about a year, the motor was making a funny noise. \\\n",
    "I called customer service but the warranty expired \\\n",
    "already, so I had to buy another one. FYI: The overall \\\n",
    "quality has gone done in these types of products, so \\\n",
    "they are kind of counting on brand recognition and \\\n",
    "consumer loyalty to maintain sales. Got it in about \\\n",
    "two days.\n",
    "\"\"\"\n",
    "\n",
    "reviews = [review_1, review_2, review_3, review_4]"
   ]
  },
  {
   "cell_type": "code",
   "execution_count": 8,
   "metadata": {
    "tags": []
   },
   "outputs": [
    {
     "name": "stdout",
     "output_type": "stream",
     "text": [
      "0 Summary: \n",
      "Cute panda plush loved by daughter, but small for price. Arrived early, soft and friendly-faced. \n",
      "\n",
      "1 Summary: \n",
      "Lamp with storage, affordable, fast delivery. Excellent customer service, quick replacements for broken and missing parts. \n",
      "\n",
      "2 Impressive battery life, small head, good deal for $50, generic replacement heads available, leaves teeth feeling clean. \n",
      "\n",
      "3 17-piece system on sale for $49, quality decline, motor issue after a year, price increase, customer service, brand loyalty. \n",
      "\n"
     ]
    }
   ],
   "source": [
    "for i in range(len(reviews)):\n",
    "    prompt = f\"\"\"\n",
    "    Your task is to generate a short summary of a product \\ \n",
    "    review from an ecommerce site. \n",
    "\n",
    "    Summarize the review below, delimited by triple \\\n",
    "    backticks in at most 20 words. \n",
    "\n",
    "    Review: ```{reviews[i]}```\n",
    "    \"\"\"\n",
    "\n",
    "    response = get_completion(prompt)\n",
    "    print(i, response, \"\\n\")"
   ]
  },
  {
   "cell_type": "markdown",
   "metadata": {},
   "source": [
    "# Exercise\n",
    " - Complete the prompts similar to what we did in class. \n",
    "     - Try at least 3 versions\n",
    "     - Be creative\n",
    " - Write a one page report summarizing your findings.\n",
    "     - Were there variations that didn't work well? i.e., where GPT either hallucinated or wrong\n",
    " - What did you learn?"
   ]
  },
  {
   "cell_type": "markdown",
   "metadata": {},
   "source": [
    "## 0 - Setup"
   ]
  },
  {
   "cell_type": "code",
   "execution_count": 47,
   "metadata": {},
   "outputs": [],
   "source": [
    "def create_reviews(product):\n",
    "    prompt = f\"\"\"\n",
    "    You task is generate 4 reviews about {product}. \\\n",
    "    The reviews need to be at least 200 words long. \\\n",
    "    You will return each one separated by '|'. \\\n",
    "    I need raw text, without line breaks, quotes, numbers, etc. \\\n",
    "    Just the review text. \n",
    "    \"\"\"\n",
    "    response = get_completion(prompt)\n",
    "\n",
    "    reviews = response.split(\"|\")\n",
    "    return reviews\n",
    "\n",
    "\n",
    "def summarize_reviews(reviews, temperature):\n",
    "    summaries = []\n",
    "    for review in reviews:\n",
    "        prompt = f\"\"\"\n",
    "        Your task is to generate a short summary of a product \\ \n",
    "        review from an ecommerce site. \n",
    "\n",
    "        Summarize the review below, delimited by triple \\\n",
    "        backticks in at most 20 words. \n",
    "\n",
    "        Review: ```{review}```\n",
    "        \"\"\"\n",
    "\n",
    "        response = get_completion(prompt)\n",
    "        print(response)"
   ]
  },
  {
   "cell_type": "markdown",
   "metadata": {},
   "source": [
    "## 1 - Random text with lower temperature"
   ]
  },
  {
   "cell_type": "code",
   "execution_count": 48,
   "metadata": {},
   "outputs": [
    {
     "name": "stdout",
     "output_type": "stream",
     "text": [
      "Summary: \n",
      "Stunning standing lamp with adjustable height, modern design, and cozy light perfect for any room. Highly recommended.\n",
      "Impressive quality, durable materials, adjustable brightness, minimalist design, and compliments received. Perfect investment for any room.\n",
      "Stylish, space-saving lamp with adjustable neck and cozy glow perfect for any task or relaxation. Highly recommended.\n",
      "Exceeded expectations with high-quality construction, adjustable features, soft light, and stylish design. Perfect for any use.\n"
     ]
    }
   ],
   "source": [
    "first_random_reviews = create_reviews(\"a standing lamp\")\n",
    "summarize_reviews(first_random_reviews, 0)"
   ]
  },
  {
   "cell_type": "markdown",
   "metadata": {},
   "source": [
    "## 2 - Random text with higher temperature"
   ]
  },
  {
   "cell_type": "code",
   "execution_count": 49,
   "metadata": {},
   "outputs": [
    {
     "name": "stdout",
     "output_type": "stream",
     "text": [
      "Summary: \n",
      "Stunning standing lamp with sleek design, adjustable height, warm light, perfect for any room. Highly recommended for elegance.\n",
      "Impressive quality, durable materials, adjustable brightness, minimalist design, and compliments received. A happy purchase.\n",
      "Stylish, space-saving lamp with adjustable neck and cozy glow perfect for any task or relaxation. Highly recommended.\n",
      "Exceeded expectations with high-quality construction, adjustable features, soft light, and stylish design. Perfect for any use.\n"
     ]
    }
   ],
   "source": [
    "summarize_reviews(first_random_reviews, 1)"
   ]
  },
  {
   "cell_type": "markdown",
   "metadata": {},
   "source": [
    "## 1 and 2 - Conclusion\n",
    "\n",
    "The reviews was:"
   ]
  },
  {
   "cell_type": "code",
   "execution_count": 50,
   "metadata": {},
   "outputs": [
    {
     "name": "stdout",
     "output_type": "stream",
     "text": [
      "This standing lamp is absolutely stunning. The sleek design and modern finish make it a perfect addition to any room. The adjustable height and angle of the lamp make it versatile and functional for any task. The soft, warm light it emits creates a cozy atmosphere, perfect for reading or relaxing. I highly recommend this lamp to anyone looking to add a touch of elegance to their space.\n",
      "\n",
      "\n",
      "I am so impressed with the quality of this standing lamp. The sturdy base and durable materials make it a long-lasting investment. The easy-to-use on/off switch and adjustable brightness settings make it convenient for any situation. The minimalist design fits seamlessly into any decor style, adding a touch of sophistication to the room. I have received so many compliments on this lamp and couldn't be happier with my purchase.\n",
      "\n",
      "\n",
      "I love how this standing lamp brightens up my living room. The sleek, slim design doesn't take up much space, yet provides ample light for any task. The adjustable neck allows me to direct the light exactly where I need it, whether I'm reading a book or working on a puzzle. The soft, warm glow creates a cozy ambiance that is perfect for unwinding after a long day. I would highly recommend this lamp to anyone in need of a stylish and functional lighting solution.\n",
      "\n",
      "\n",
      "This standing lamp exceeded all of my expectations. The high-quality construction and attention to detail are evident in every aspect of the design. The adjustable height and angle make it versatile for any use, whether I'm working at my desk or relaxing on the couch. The soft, diffused light is easy on the eyes and creates a warm, inviting atmosphere in the room. I am so pleased with this purchase and would recommend it to anyone in search of a reliable and stylish lighting option.\n"
     ]
    }
   ],
   "source": [
    "for review in first_random_reviews:\n",
    "    print(review)"
   ]
  },
  {
   "cell_type": "markdown",
   "metadata": {},
   "source": [
    "The both results are similar. The first one is more coherent and the second one is more creative. The temperature parameter makes the difference."
   ]
  },
  {
   "cell_type": "markdown",
   "metadata": {},
   "source": [
    "## 3 - Summarize with a fantasy product"
   ]
  },
  {
   "cell_type": "code",
   "execution_count": 53,
   "metadata": {},
   "outputs": [
    {
     "name": "stdout",
     "output_type": "stream",
     "text": [
      "This magic ring with the fireball spell is absolutely incredible. I have never seen anything like it before. The power it holds is truly mesmerizing. With just a simple flick of the wrist, I can unleash a powerful fireball that can take down any enemy in my path. It has completely changed the way I approach battles and has made me feel invincible. I highly recommend this ring to anyone looking to up their magical abilities. \n",
      "\n",
      "\n",
      "I am beyond impressed with this magic ring. The fireball spell it contains is so potent and effective. I have used it in countless battles and it has never let me down. The ring itself is also beautifully crafted, making it a stunning accessory to wear. I feel like a true sorcerer when I have it on my finger. I cannot imagine going into battle without it now. It has become an essential part of my magical arsenal. \n",
      "\n",
      "\n",
      "I cannot get over how powerful this magic ring with the fireball spell is. The fireball it produces is so intense and destructive. It has helped me defeat some of the toughest foes I have ever faced. The ring itself is also very comfortable to wear, making it easy to keep on at all times. I have received so many compliments on it as well. People are always in awe of the fiery display it puts on. I am so grateful to have this ring in my possession. \n",
      "\n",
      "\n",
      "I am in awe of the sheer power of this magic ring with the fireball spell. The fireball it conjures is like nothing I have ever seen before. It is so intense and fiery, it can take down multiple enemies at once. The ring itself is also very durable and well-made. I have worn it in many battles and it has never failed me. It has truly become a staple in my magical collection. I cannot recommend this ring enough to any aspiring sorcerer.\n",
      "Summary: \n",
      "\"Unleash powerful fireballs with this mesmerizing magic ring, transforming battles and making you feel invincible.\"\n",
      "Impressively potent magic ring for battles, beautifully crafted, essential accessory for any sorcerer.\n",
      "This magic ring with fireball spell is powerful, comfortable, and awe-inspiring, helping defeat tough foes.\n",
      "This magic ring with fireball spell is powerful, durable, and a must-have for any sorcerer.\n"
     ]
    }
   ],
   "source": [
    "third_random_reviews = create_reviews(\"a magic ring with fireball spell\")\n",
    "for review in third_random_reviews:\n",
    "    print(review)\n",
    "summarize_reviews(third_random_reviews, 1)"
   ]
  },
  {
   "cell_type": "markdown",
   "metadata": {},
   "source": [
    "### 3 - Conclusion\n",
    "\n",
    "The summary was good. The model was able to understand the context and summarize the text. The summary was coherent and the model didn't hallucinate."
   ]
  }
 ],
 "metadata": {
  "kernelspec": {
   "display_name": "Python 3 (ipykernel)",
   "language": "python",
   "name": "python3"
  },
  "language_info": {
   "codemirror_mode": {
    "name": "ipython",
    "version": 3
   },
   "file_extension": ".py",
   "mimetype": "text/x-python",
   "name": "python",
   "nbconvert_exporter": "python",
   "pygments_lexer": "ipython3",
   "version": "3.11.7"
  }
 },
 "nbformat": 4,
 "nbformat_minor": 4
}
