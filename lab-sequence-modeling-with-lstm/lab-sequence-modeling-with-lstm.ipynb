{
 "cells": [
  {
   "cell_type": "markdown",
   "metadata": {},
   "source": [
    "# Lab | Sequence Modeling with LSTM"
   ]
  },
  {
   "cell_type": "code",
   "execution_count": 51,
   "metadata": {
    "id": "hmA6EzkQJ5jt",
    "tags": []
   },
   "outputs": [],
   "source": [
    "import json\n",
    "import tensorflow as tf\n",
    "import csv\n",
    "import random\n",
    "import numpy as np\n",
    "\n",
    "from tensorflow.keras.preprocessing.text import Tokenizer\n",
    "from tensorflow.keras.preprocessing.sequence import pad_sequences\n",
    "from tensorflow.keras.utils import to_categorical\n",
    "from tensorflow.keras import regularizers\n",
    "\n",
    "\n",
    "embedding_dim = 100\n",
    "max_length = 16\n",
    "trunc_type='post'\n",
    "padding_type='post'\n",
    "oov_tok = \"<OOV>\"\n",
    "training_size=160000#Your dataset size here. Experiment using smaller values (i.e. 16000), but don't forget to train on at least 160000 to see the best effects\n",
    "test_portion=.1\n",
    "\n",
    "\n"
   ]
  },
  {
   "cell_type": "code",
   "execution_count": 52,
   "metadata": {
    "colab": {
     "base_uri": "https://localhost:8080/",
     "height": 204
    },
    "id": "bM0l_dORKqE0",
    "outputId": "491ba86b-f780-4355-a4be-765565a29c8c"
   },
   "outputs": [],
   "source": [
    "num_sentences = 0\n",
    "corpus = []\n",
    "\n",
    "with open(\"training.1600000.processed.noemoticon.csv\", encoding='ISO-8859-1') as csvfile:\n",
    "    reader = csv.reader(csvfile, delimiter=',')\n",
    "    for row in reader:\n",
    "      # Your Code here. Create list items where the first item is the text, found in row[5], and the second is the label. Note that the label is a '0' or a '4' in the text. When it's the former, make\n",
    "      # your label to be 0, otherwise 1. Keep a count of the number of sentences in num_sentences\n",
    "        list_item=[]\n",
    "        # YOUR CODE HERE\n",
    "        this_text = row[5] \n",
    "        this_label = 0 if row[0] == '0' else 1\n",
    "        list_item.append(this_text)\n",
    "        list_item.append(this_label)\n",
    "        num_sentences = num_sentences + 1\n",
    "        corpus.append(list_item)\n"
   ]
  },
  {
   "cell_type": "code",
   "execution_count": 53,
   "metadata": {
    "colab": {
     "base_uri": "https://localhost:8080/",
     "height": 68
    },
    "id": "3kxblBUjEUX-",
    "outputId": "3c0227a2-e74b-4d9b-cabb-f9ee150571b1"
   },
   "outputs": [
    {
     "name": "stdout",
     "output_type": "stream",
     "text": [
      "1600000\n",
      "1600000\n",
      "[\"is upset that he can't update his Facebook by texting it... and might cry as a result  School today also. Blah!\", 0]\n"
     ]
    }
   ],
   "source": [
    "print(num_sentences)\n",
    "print(len(corpus))\n",
    "print(corpus[1])\n",
    "\n",
    "# Expected Output:\n",
    "# 1600000\n",
    "# 1600000\n",
    "# [\"is upset that he can't update his Facebook by texting it... and might cry as a result  School today also. Blah!\", 0]"
   ]
  },
  {
   "cell_type": "code",
   "execution_count": 54,
   "metadata": {
    "id": "ohOGz24lsNAD"
   },
   "outputs": [],
   "source": [
    "sentences=[]\n",
    "labels=[]\n",
    "random.shuffle(corpus)\n",
    "for x in range(training_size):\n",
    "    sentences.append(corpus[x][0])\n",
    "    labels.append(corpus[x][1])\n",
    "\n",
    "\n",
    "tokenizer = Tokenizer()\n",
    "tokenizer.fit_on_texts(sentences)\n",
    "\n",
    "word_index = tokenizer.word_index\n",
    "vocab_size=len(word_index)\n",
    "\n",
    "sequences = tokenizer.texts_to_sequences(sentences)\n",
    "padded = pad_sequences(sequences, padding=padding_type, maxlen=max_length)\n",
    "\n",
    "split = int(test_portion * training_size)\n",
    "\n",
    "test_sequences = padded[:split]\n",
    "training_sequences = padded[split:]\n",
    "test_labels = np.array(labels[:split])\n",
    "training_labels = np.array(labels[split:])"
   ]
  },
  {
   "cell_type": "code",
   "execution_count": 55,
   "metadata": {
    "colab": {
     "base_uri": "https://localhost:8080/",
     "height": 51
    },
    "id": "gIrtRem1En3N",
    "outputId": "4ad8401c-8dba-420d-8aee-38dac0b0839a"
   },
   "outputs": [
    {
     "name": "stdout",
     "output_type": "stream",
     "text": [
      "138649\n",
      "1\n"
     ]
    }
   ],
   "source": [
    "print(vocab_size)\n",
    "print(word_index['i'])\n",
    "# Expected Output\n",
    "# 138858\n",
    "# 1"
   ]
  },
  {
   "cell_type": "code",
   "execution_count": 56,
   "metadata": {
    "colab": {
     "base_uri": "https://localhost:8080/",
     "height": 204
    },
    "id": "C1zdgJkusRh0",
    "outputId": "b6edd322-8191-45e7-cb12-08921685a72f"
   },
   "outputs": [],
   "source": [
    "\n",
    "embeddings_index = {};\n",
    "with open('glove.6B.100d.txt') as f:\n",
    "    for line in f:\n",
    "        values = line.split();\n",
    "        word = values[0];\n",
    "        coefs = np.asarray(values[1:], dtype='float32');\n",
    "        embeddings_index[word] = coefs;\n",
    "\n",
    "embeddings_matrix = np.zeros((vocab_size+1, embedding_dim));\n",
    "for word, i in word_index.items():\n",
    "    embedding_vector = embeddings_index.get(word);\n",
    "    if embedding_vector is not None:\n",
    "        embeddings_matrix[i] = embedding_vector;"
   ]
  },
  {
   "cell_type": "code",
   "execution_count": 57,
   "metadata": {
    "colab": {
     "base_uri": "https://localhost:8080/",
     "height": 34
    },
    "id": "71NLk_lpFLNt",
    "outputId": "97cb88db-754f-4375-fdc3-876cd6b4fdce"
   },
   "outputs": [
    {
     "name": "stdout",
     "output_type": "stream",
     "text": [
      "138650\n"
     ]
    }
   ],
   "source": [
    "print(len(embeddings_matrix))\n",
    "# Expected Output\n",
    "# 138859"
   ]
  },
  {
   "cell_type": "code",
   "execution_count": 58,
   "metadata": {
    "id": "iKKvbuEBOGFz"
   },
   "outputs": [
    {
     "data": {
      "text/html": [
       "<pre style=\"white-space:pre;overflow-x:auto;line-height:normal;font-family:Menlo,'DejaVu Sans Mono',consolas,'Courier New',monospace\"><span style=\"font-weight: bold\">Model: \"sequential_4\"</span>\n",
       "</pre>\n"
      ],
      "text/plain": [
       "\u001b[1mModel: \"sequential_4\"\u001b[0m\n"
      ]
     },
     "metadata": {},
     "output_type": "display_data"
    },
    {
     "data": {
      "text/html": [
       "<pre style=\"white-space:pre;overflow-x:auto;line-height:normal;font-family:Menlo,'DejaVu Sans Mono',consolas,'Courier New',monospace\">┏━━━━━━━━━━━━━━━━━━━━━━━━━━━━━━━━━┳━━━━━━━━━━━━━━━━━━━━━━━━┳━━━━━━━━━━━━━━━┓\n",
       "┃<span style=\"font-weight: bold\"> Layer (type)                    </span>┃<span style=\"font-weight: bold\"> Output Shape           </span>┃<span style=\"font-weight: bold\">       Param # </span>┃\n",
       "┡━━━━━━━━━━━━━━━━━━━━━━━━━━━━━━━━━╇━━━━━━━━━━━━━━━━━━━━━━━━╇━━━━━━━━━━━━━━━┩\n",
       "│ embedding_5 (<span style=\"color: #0087ff; text-decoration-color: #0087ff\">Embedding</span>)         │ ?                      │    <span style=\"color: #00af00; text-decoration-color: #00af00\">13,865,000</span> │\n",
       "├─────────────────────────────────┼────────────────────────┼───────────────┤\n",
       "│ bidirectional_4 (<span style=\"color: #0087ff; text-decoration-color: #0087ff\">Bidirectional</span>) │ ?                      │   <span style=\"color: #00af00; text-decoration-color: #00af00\">0</span> (unbuilt) │\n",
       "├─────────────────────────────────┼────────────────────────┼───────────────┤\n",
       "│ dense_8 (<span style=\"color: #0087ff; text-decoration-color: #0087ff\">Dense</span>)                 │ ?                      │   <span style=\"color: #00af00; text-decoration-color: #00af00\">0</span> (unbuilt) │\n",
       "├─────────────────────────────────┼────────────────────────┼───────────────┤\n",
       "│ dense_9 (<span style=\"color: #0087ff; text-decoration-color: #0087ff\">Dense</span>)                 │ ?                      │   <span style=\"color: #00af00; text-decoration-color: #00af00\">0</span> (unbuilt) │\n",
       "└─────────────────────────────────┴────────────────────────┴───────────────┘\n",
       "</pre>\n"
      ],
      "text/plain": [
       "┏━━━━━━━━━━━━━━━━━━━━━━━━━━━━━━━━━┳━━━━━━━━━━━━━━━━━━━━━━━━┳━━━━━━━━━━━━━━━┓\n",
       "┃\u001b[1m \u001b[0m\u001b[1mLayer (type)                   \u001b[0m\u001b[1m \u001b[0m┃\u001b[1m \u001b[0m\u001b[1mOutput Shape          \u001b[0m\u001b[1m \u001b[0m┃\u001b[1m \u001b[0m\u001b[1m      Param #\u001b[0m\u001b[1m \u001b[0m┃\n",
       "┡━━━━━━━━━━━━━━━━━━━━━━━━━━━━━━━━━╇━━━━━━━━━━━━━━━━━━━━━━━━╇━━━━━━━━━━━━━━━┩\n",
       "│ embedding_5 (\u001b[38;5;33mEmbedding\u001b[0m)         │ ?                      │    \u001b[38;5;34m13,865,000\u001b[0m │\n",
       "├─────────────────────────────────┼────────────────────────┼───────────────┤\n",
       "│ bidirectional_4 (\u001b[38;5;33mBidirectional\u001b[0m) │ ?                      │   \u001b[38;5;34m0\u001b[0m (unbuilt) │\n",
       "├─────────────────────────────────┼────────────────────────┼───────────────┤\n",
       "│ dense_8 (\u001b[38;5;33mDense\u001b[0m)                 │ ?                      │   \u001b[38;5;34m0\u001b[0m (unbuilt) │\n",
       "├─────────────────────────────────┼────────────────────────┼───────────────┤\n",
       "│ dense_9 (\u001b[38;5;33mDense\u001b[0m)                 │ ?                      │   \u001b[38;5;34m0\u001b[0m (unbuilt) │\n",
       "└─────────────────────────────────┴────────────────────────┴───────────────┘\n"
      ]
     },
     "metadata": {},
     "output_type": "display_data"
    },
    {
     "data": {
      "text/html": [
       "<pre style=\"white-space:pre;overflow-x:auto;line-height:normal;font-family:Menlo,'DejaVu Sans Mono',consolas,'Courier New',monospace\"><span style=\"font-weight: bold\"> Total params: </span><span style=\"color: #00af00; text-decoration-color: #00af00\">13,865,000</span> (52.89 MB)\n",
       "</pre>\n"
      ],
      "text/plain": [
       "\u001b[1m Total params: \u001b[0m\u001b[38;5;34m13,865,000\u001b[0m (52.89 MB)\n"
      ]
     },
     "metadata": {},
     "output_type": "display_data"
    },
    {
     "data": {
      "text/html": [
       "<pre style=\"white-space:pre;overflow-x:auto;line-height:normal;font-family:Menlo,'DejaVu Sans Mono',consolas,'Courier New',monospace\"><span style=\"font-weight: bold\"> Trainable params: </span><span style=\"color: #00af00; text-decoration-color: #00af00\">0</span> (0.00 B)\n",
       "</pre>\n"
      ],
      "text/plain": [
       "\u001b[1m Trainable params: \u001b[0m\u001b[38;5;34m0\u001b[0m (0.00 B)\n"
      ]
     },
     "metadata": {},
     "output_type": "display_data"
    },
    {
     "data": {
      "text/html": [
       "<pre style=\"white-space:pre;overflow-x:auto;line-height:normal;font-family:Menlo,'DejaVu Sans Mono',consolas,'Courier New',monospace\"><span style=\"font-weight: bold\"> Non-trainable params: </span><span style=\"color: #00af00; text-decoration-color: #00af00\">13,865,000</span> (52.89 MB)\n",
       "</pre>\n"
      ],
      "text/plain": [
       "\u001b[1m Non-trainable params: \u001b[0m\u001b[38;5;34m13,865,000\u001b[0m (52.89 MB)\n"
      ]
     },
     "metadata": {},
     "output_type": "display_data"
    },
    {
     "name": "stdout",
     "output_type": "stream",
     "text": [
      "Epoch 1/50\n",
      "4500/4500 - 23s - 5ms/step - accuracy: 0.7321 - loss: 0.5294 - val_accuracy: 0.7500 - val_loss: 0.5023\n",
      "Epoch 2/50\n",
      "4500/4500 - 20s - 4ms/step - accuracy: 0.7695 - loss: 0.4794 - val_accuracy: 0.7714 - val_loss: 0.4736\n",
      "Epoch 3/50\n",
      "4500/4500 - 19s - 4ms/step - accuracy: 0.7830 - loss: 0.4575 - val_accuracy: 0.7725 - val_loss: 0.4746\n",
      "Epoch 4/50\n",
      "4500/4500 - 32s - 7ms/step - accuracy: 0.7936 - loss: 0.4415 - val_accuracy: 0.7788 - val_loss: 0.4653\n",
      "Epoch 5/50\n",
      "4500/4500 - 23s - 5ms/step - accuracy: 0.8016 - loss: 0.4274 - val_accuracy: 0.7787 - val_loss: 0.4760\n",
      "Epoch 6/50\n",
      "4500/4500 - 25s - 6ms/step - accuracy: 0.8089 - loss: 0.4155 - val_accuracy: 0.7801 - val_loss: 0.4678\n",
      "Epoch 7/50\n",
      "4500/4500 - 27s - 6ms/step - accuracy: 0.8143 - loss: 0.4044 - val_accuracy: 0.7828 - val_loss: 0.4695\n",
      "Epoch 8/50\n",
      "4500/4500 - 22s - 5ms/step - accuracy: 0.8199 - loss: 0.3936 - val_accuracy: 0.7796 - val_loss: 0.4714\n",
      "Epoch 9/50\n",
      "4500/4500 - 23s - 5ms/step - accuracy: 0.8253 - loss: 0.3839 - val_accuracy: 0.7781 - val_loss: 0.4830\n",
      "Epoch 10/50\n",
      "4500/4500 - 26s - 6ms/step - accuracy: 0.8309 - loss: 0.3747 - val_accuracy: 0.7713 - val_loss: 0.4932\n",
      "Epoch 11/50\n",
      "4500/4500 - 27s - 6ms/step - accuracy: 0.8373 - loss: 0.3648 - val_accuracy: 0.7741 - val_loss: 0.5016\n",
      "Epoch 12/50\n",
      "4500/4500 - 29s - 6ms/step - accuracy: 0.8408 - loss: 0.3565 - val_accuracy: 0.7710 - val_loss: 0.5031\n",
      "Epoch 13/50\n",
      "4500/4500 - 25s - 6ms/step - accuracy: 0.8451 - loss: 0.3478 - val_accuracy: 0.7697 - val_loss: 0.5153\n",
      "Epoch 14/50\n",
      "4500/4500 - 26s - 6ms/step - accuracy: 0.8495 - loss: 0.3396 - val_accuracy: 0.7695 - val_loss: 0.5268\n",
      "Epoch 15/50\n",
      "4500/4500 - 26s - 6ms/step - accuracy: 0.8529 - loss: 0.3323 - val_accuracy: 0.7646 - val_loss: 0.5294\n",
      "Epoch 16/50\n",
      "4500/4500 - 28s - 6ms/step - accuracy: 0.8577 - loss: 0.3252 - val_accuracy: 0.7673 - val_loss: 0.5364\n",
      "Epoch 17/50\n",
      "4500/4500 - 27s - 6ms/step - accuracy: 0.8600 - loss: 0.3182 - val_accuracy: 0.7659 - val_loss: 0.5697\n",
      "Epoch 18/50\n",
      "4500/4500 - 29s - 6ms/step - accuracy: 0.8633 - loss: 0.3115 - val_accuracy: 0.7635 - val_loss: 0.5689\n",
      "Epoch 19/50\n",
      "4500/4500 - 27s - 6ms/step - accuracy: 0.8671 - loss: 0.3046 - val_accuracy: 0.7617 - val_loss: 0.5821\n",
      "Epoch 20/50\n",
      "4500/4500 - 28s - 6ms/step - accuracy: 0.8705 - loss: 0.2989 - val_accuracy: 0.7622 - val_loss: 0.6217\n",
      "Epoch 21/50\n",
      "4500/4500 - 28s - 6ms/step - accuracy: 0.8731 - loss: 0.2934 - val_accuracy: 0.7607 - val_loss: 0.6181\n",
      "Epoch 22/50\n",
      "4500/4500 - 28s - 6ms/step - accuracy: 0.8752 - loss: 0.2881 - val_accuracy: 0.7558 - val_loss: 0.6297\n",
      "Epoch 23/50\n",
      "4500/4500 - 37s - 8ms/step - accuracy: 0.8779 - loss: 0.2817 - val_accuracy: 0.7549 - val_loss: 0.6333\n",
      "Epoch 24/50\n",
      "4500/4500 - 34s - 8ms/step - accuracy: 0.8797 - loss: 0.2774 - val_accuracy: 0.7596 - val_loss: 0.6612\n",
      "Epoch 25/50\n",
      "4500/4500 - 29s - 6ms/step - accuracy: 0.8824 - loss: 0.2718 - val_accuracy: 0.7535 - val_loss: 0.6704\n",
      "Epoch 26/50\n",
      "4500/4500 - 31s - 7ms/step - accuracy: 0.8849 - loss: 0.2670 - val_accuracy: 0.7551 - val_loss: 0.6906\n",
      "Epoch 27/50\n",
      "4500/4500 - 31s - 7ms/step - accuracy: 0.8871 - loss: 0.2626 - val_accuracy: 0.7533 - val_loss: 0.7138\n",
      "Epoch 28/50\n",
      "4500/4500 - 29s - 6ms/step - accuracy: 0.8886 - loss: 0.2585 - val_accuracy: 0.7528 - val_loss: 0.7091\n",
      "Epoch 29/50\n",
      "4500/4500 - 31s - 7ms/step - accuracy: 0.8906 - loss: 0.2534 - val_accuracy: 0.7534 - val_loss: 0.7493\n",
      "Epoch 30/50\n",
      "4500/4500 - 33s - 7ms/step - accuracy: 0.8935 - loss: 0.2496 - val_accuracy: 0.7522 - val_loss: 0.7722\n",
      "Epoch 31/50\n",
      "4500/4500 - 31s - 7ms/step - accuracy: 0.8948 - loss: 0.2455 - val_accuracy: 0.7487 - val_loss: 0.7563\n",
      "Epoch 32/50\n",
      "4500/4500 - 29s - 6ms/step - accuracy: 0.8961 - loss: 0.2422 - val_accuracy: 0.7512 - val_loss: 0.7886\n",
      "Epoch 33/50\n",
      "4500/4500 - 31s - 7ms/step - accuracy: 0.8985 - loss: 0.2384 - val_accuracy: 0.7496 - val_loss: 0.7869\n",
      "Epoch 34/50\n",
      "4500/4500 - 31s - 7ms/step - accuracy: 0.9000 - loss: 0.2346 - val_accuracy: 0.7511 - val_loss: 0.8335\n",
      "Epoch 35/50\n",
      "4500/4500 - 31s - 7ms/step - accuracy: 0.9017 - loss: 0.2315 - val_accuracy: 0.7486 - val_loss: 0.8019\n",
      "Epoch 36/50\n",
      "4500/4500 - 25s - 6ms/step - accuracy: 0.9027 - loss: 0.2280 - val_accuracy: 0.7499 - val_loss: 0.8420\n",
      "Epoch 37/50\n",
      "4500/4500 - 25s - 5ms/step - accuracy: 0.9036 - loss: 0.2257 - val_accuracy: 0.7491 - val_loss: 0.8515\n",
      "Epoch 38/50\n",
      "4500/4500 - 27s - 6ms/step - accuracy: 0.9051 - loss: 0.2233 - val_accuracy: 0.7463 - val_loss: 0.8504\n",
      "Epoch 39/50\n",
      "4500/4500 - 27s - 6ms/step - accuracy: 0.9064 - loss: 0.2190 - val_accuracy: 0.7484 - val_loss: 0.8830\n",
      "Epoch 40/50\n",
      "4500/4500 - 30s - 7ms/step - accuracy: 0.9073 - loss: 0.2175 - val_accuracy: 0.7477 - val_loss: 0.9159\n",
      "Epoch 41/50\n",
      "4500/4500 - 30s - 7ms/step - accuracy: 0.9079 - loss: 0.2146 - val_accuracy: 0.7422 - val_loss: 0.9193\n",
      "Epoch 42/50\n",
      "4500/4500 - 29s - 6ms/step - accuracy: 0.9097 - loss: 0.2123 - val_accuracy: 0.7449 - val_loss: 0.9288\n",
      "Epoch 43/50\n",
      "4500/4500 - 31s - 7ms/step - accuracy: 0.9115 - loss: 0.2081 - val_accuracy: 0.7455 - val_loss: 0.9658\n",
      "Epoch 44/50\n",
      "4500/4500 - 29s - 6ms/step - accuracy: 0.9117 - loss: 0.2068 - val_accuracy: 0.7463 - val_loss: 0.9507\n",
      "Epoch 45/50\n",
      "4500/4500 - 29s - 6ms/step - accuracy: 0.9129 - loss: 0.2045 - val_accuracy: 0.7430 - val_loss: 0.9535\n",
      "Epoch 46/50\n",
      "4500/4500 - 29s - 6ms/step - accuracy: 0.9142 - loss: 0.2019 - val_accuracy: 0.7475 - val_loss: 1.0112\n",
      "Epoch 47/50\n",
      "4500/4500 - 31s - 7ms/step - accuracy: 0.9150 - loss: 0.2008 - val_accuracy: 0.7450 - val_loss: 1.0010\n",
      "Epoch 48/50\n",
      "4500/4500 - 31s - 7ms/step - accuracy: 0.9159 - loss: 0.1984 - val_accuracy: 0.7465 - val_loss: 0.9841\n",
      "Epoch 49/50\n",
      "4500/4500 - 27s - 6ms/step - accuracy: 0.9170 - loss: 0.1968 - val_accuracy: 0.7428 - val_loss: 1.0099\n",
      "Epoch 50/50\n",
      "4500/4500 - 29s - 6ms/step - accuracy: 0.9172 - loss: 0.1943 - val_accuracy: 0.7407 - val_loss: 1.0706\n",
      "Training Complete\n"
     ]
    }
   ],
   "source": [
    "model = tf.keras.Sequential([\n",
    "    tf.keras.layers.Embedding(vocab_size+1, embedding_dim, input_length=max_length, weights=[embeddings_matrix], trainable=False),\n",
    "    # YOUR CODE HERE - experiment with combining different types, such as convolutions and LSTMs\n",
    "    tf.keras.layers.Bidirectional(tf.keras.layers.LSTM(32)),\n",
    "    tf.keras.layers.Dense(24, activation='relu'),\n",
    "    tf.keras.layers.Dense(1, activation='sigmoid')\n",
    "\n",
    "])\n",
    "model.compile(loss='binary_crossentropy',optimizer='adam',metrics=['accuracy'])\n",
    "model.summary()\n",
    "\n",
    "num_epochs = 50\n",
    "history = model.fit(training_sequences, training_labels, epochs=num_epochs, validation_data=(test_sequences, test_labels), verbose=2)\n",
    "\n",
    "print(\"Training Complete\")\n"
   ]
  },
  {
   "cell_type": "code",
   "execution_count": 59,
   "metadata": {
    "id": "qxju4ItJKO8F"
   },
   "outputs": [
    {
     "data": {
      "text/plain": [
       "<Figure size 640x480 with 0 Axes>"
      ]
     },
     "execution_count": 59,
     "metadata": {},
     "output_type": "execute_result"
    },
    {
     "data": {
      "image/png": "[encoded data removed]",
      "text/plain": [
       "<Figure size 640x480 with 1 Axes>"
      ]
     },
     "metadata": {},
     "output_type": "display_data"
    },
    {
     "data": {
      "image/png": "[encoded data removed]",
      "text/plain": [
       "<Figure size 640x480 with 1 Axes>"
      ]
     },
     "metadata": {},
     "output_type": "display_data"
    },
    {
     "data": {
      "text/plain": [
       "<Figure size 640x480 with 0 Axes>"
      ]
     },
     "metadata": {},
     "output_type": "display_data"
    }
   ],
   "source": [
    "import matplotlib.image  as mpimg\n",
    "import matplotlib.pyplot as plt\n",
    "\n",
    "#-----------------------------------------------------------\n",
    "# Retrieve a list of list results on training and test data\n",
    "# sets for each training epoch\n",
    "#-----------------------------------------------------------\n",
    "acc=history.history['accuracy']\n",
    "val_acc=history.history['val_accuracy']\n",
    "loss=history.history['loss']\n",
    "val_loss=history.history['val_loss']\n",
    "\n",
    "epochs=range(len(acc)) # Get number of epochs\n",
    "\n",
    "#------------------------------------------------\n",
    "# Plot training and validation accuracy per epoch\n",
    "#------------------------------------------------\n",
    "plt.plot(epochs, acc, 'r')\n",
    "plt.plot(epochs, val_acc, 'b')\n",
    "plt.title('Training and validation accuracy')\n",
    "plt.xlabel(\"Epochs\")\n",
    "plt.ylabel(\"Accuracy\")\n",
    "plt.legend([\"Accuracy\", \"Validation Accuracy\"])\n",
    "\n",
    "plt.figure()\n",
    "\n",
    "#------------------------------------------------\n",
    "# Plot training and validation loss per epoch\n",
    "#------------------------------------------------\n",
    "plt.plot(epochs, loss, 'r')\n",
    "plt.plot(epochs, val_loss, 'b')\n",
    "plt.title('Training and validation loss')\n",
    "plt.xlabel(\"Epochs\")\n",
    "plt.ylabel(\"Loss\")\n",
    "plt.legend([\"Loss\", \"Validation Loss\"])\n",
    "\n",
    "plt.figure()\n",
    "\n",
    "\n",
    "# Expected Output\n",
    "# A chart where the validation loss does not increase sharply!"
   ]
  }
 ],
 "metadata": {
  "accelerator": "GPU",
  "colab": {
   "name": "NLP Course - Week 3 Exercise Question.ipynb",
   "provenance": [],
   "toc_visible": true
  },
  "kernelspec": {
   "display_name": "Python 3 (ipykernel)",
   "language": "python",
   "name": "python3"
  },
  "language_info": {
   "codemirror_mode": {
    "name": "ipython",
    "version": 3
   },
   "file_extension": ".py",
   "mimetype": "text/x-python",
   "name": "python",
   "nbconvert_exporter": "python",
   "pygments_lexer": "ipython3",
   "version": "3.11.7"
  }
 },
 "nbformat": 4,
 "nbformat_minor": 4
}
