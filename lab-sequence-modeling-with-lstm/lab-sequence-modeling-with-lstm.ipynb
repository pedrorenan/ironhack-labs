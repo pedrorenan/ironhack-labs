{
 "cells": [
  {
   "cell_type": "markdown",
   "metadata": {},
   "source": [
    "# Lab | Sequence Modeling with LSTM"
   ]
  },
  {
   "cell_type": "code",
   "execution_count": 51,
   "metadata": {
    "id": "hmA6EzkQJ5jt",
    "tags": []
   },
   "outputs": [],
   "source": [
    "import json\n",
    "import tensorflow as tf\n",
    "import csv\n",
    "import random\n",
    "import numpy as np\n",
    "\n",
    "from tensorflow.keras.preprocessing.text import Tokenizer\n",
    "from tensorflow.keras.preprocessing.sequence import pad_sequences\n",
    "from tensorflow.keras.utils import to_categorical\n",
    "from tensorflow.keras import regularizers\n",
    "\n",
    "\n",
    "embedding_dim = 100\n",
    "max_length = 16\n",
    "trunc_type='post'\n",
    "padding_type='post'\n",
    "oov_tok = \"<OOV>\"\n",
    "training_size=160000#Your dataset size here. Experiment using smaller values (i.e. 16000), but don't forget to train on at least 160000 to see the best effects\n",
    "test_portion=.1\n",
    "\n",
    "\n"
   ]
  },
  {
   "cell_type": "code",
   "execution_count": 52,
   "metadata": {
    "colab": {
     "base_uri": "https://localhost:8080/",
     "height": 204
    },
    "id": "bM0l_dORKqE0",
    "outputId": "491ba86b-f780-4355-a4be-765565a29c8c"
   },
   "outputs": [],
   "source": [
    "num_sentences = 0\n",
    "corpus = []\n",
    "\n",
    "with open(\"training.1600000.processed.noemoticon.csv\", encoding='ISO-8859-1') as csvfile:\n",
    "    reader = csv.reader(csvfile, delimiter=',')\n",
    "    for row in reader:\n",
    "      # Your Code here. Create list items where the first item is the text, found in row[5], and the second is the label. Note that the label is a '0' or a '4' in the text. When it's the former, make\n",
    "      # your label to be 0, otherwise 1. Keep a count of the number of sentences in num_sentences\n",
    "        list_item=[]\n",
    "        # YOUR CODE HERE\n",
    "        this_text = row[5] \n",
    "        this_label = 0 if row[0] == '0' else 1\n",
    "        list_item.append(this_text)\n",
    "        list_item.append(this_label)\n",
    "        num_sentences = num_sentences + 1\n",
    "        corpus.append(list_item)\n"
   ]
  },
  {
   "cell_type": "code",
   "execution_count": 53,
   "metadata": {
    "colab": {
     "base_uri": "https://localhost:8080/",
     "height": 68
    },
    "id": "3kxblBUjEUX-",
    "outputId": "3c0227a2-e74b-4d9b-cabb-f9ee150571b1"
   },
   "outputs": [
    {
     "name": "stdout",
     "output_type": "stream",
     "text": [
      "1600000\n",
      "1600000\n",
      "[\"is upset that he can't update his Facebook by texting it... and might cry as a result  School today also. Blah!\", 0]\n"
     ]
    }
   ],
   "source": [
    "print(num_sentences)\n",
    "print(len(corpus))\n",
    "print(corpus[1])\n",
    "\n",
    "# Expected Output:\n",
    "# 1600000\n",
    "# 1600000\n",
    "# [\"is upset that he can't update his Facebook by texting it... and might cry as a result  School today also. Blah!\", 0]"
   ]
  },
  {
   "cell_type": "code",
   "execution_count": 54,
   "metadata": {
    "id": "ohOGz24lsNAD"
   },
   "outputs": [],
   "source": [
    "sentences=[]\n",
    "labels=[]\n",
    "random.shuffle(corpus)\n",
    "for x in range(training_size):\n",
    "    sentences.append(corpus[x][0])\n",
    "    labels.append(corpus[x][1])\n",
    "\n",
    "\n",
    "tokenizer = Tokenizer()\n",
    "tokenizer.fit_on_texts(sentences)\n",
    "\n",
    "word_index = tokenizer.word_index\n",
    "vocab_size=len(word_index)\n",
    "\n",
    "sequences = tokenizer.texts_to_sequences(sentences)\n",
    "padded = pad_sequences(sequences, padding=padding_type, maxlen=max_length)\n",
    "\n",
    "split = int(test_portion * training_size)\n",
    "\n",
    "test_sequences = padded[:split]\n",
    "training_sequences = padded[split:]\n",
    "test_labels = np.array(labels[:split])\n",
    "training_labels = np.array(labels[split:])"
   ]
  },
  {
   "cell_type": "code",
   "execution_count": 55,
   "metadata": {
    "colab": {
     "base_uri": "https://localhost:8080/",
     "height": 51
    },
    "id": "gIrtRem1En3N",
    "outputId": "4ad8401c-8dba-420d-8aee-38dac0b0839a"
   },
   "outputs": [
    {
     "name": "stdout",
     "output_type": "stream",
     "text": [
      "138649\n",
      "1\n"
     ]
    }
   ],
   "source": [
    "print(vocab_size)\n",
    "print(word_index['i'])\n",
    "# Expected Output\n",
    "# 138858\n",
    "# 1"
   ]
  },
  {
   "cell_type": "code",
   "execution_count": 56,
   "metadata": {
    "colab": {
     "base_uri": "https://localhost:8080/",
     "height": 204
    },
    "id": "C1zdgJkusRh0",
    "outputId": "b6edd322-8191-45e7-cb12-08921685a72f"
   },
   "outputs": [],
   "source": [
    "\n",
    "embeddings_index = {};\n",
    "with open('glove.6B.100d.txt') as f:\n",
    "    for line in f:\n",
    "        values = line.split();\n",
    "        word = values[0];\n",
    "        coefs = np.asarray(values[1:], dtype='float32');\n",
    "        embeddings_index[word] = coefs;\n",
    "\n",
    "embeddings_matrix = np.zeros((vocab_size+1, embedding_dim));\n",
    "for word, i in word_index.items():\n",
    "    embedding_vector = embeddings_index.get(word);\n",
    "    if embedding_vector is not None:\n",
    "        embeddings_matrix[i] = embedding_vector;"
   ]
  },
  {
   "cell_type": "code",
   "execution_count": 57,
   "metadata": {
    "colab": {
     "base_uri": "https://localhost:8080/",
     "height": 34
    },
    "id": "71NLk_lpFLNt",
    "outputId": "97cb88db-754f-4375-fdc3-876cd6b4fdce"
   },
   "outputs": [
    {
     "name": "stdout",
     "output_type": "stream",
     "text": [
      "138650\n"
     ]
    }
   ],
   "source": [
    "print(len(embeddings_matrix))\n",
    "# Expected Output\n",
    "# 138859"
   ]
  },
  {
   "cell_type": "code",
   "execution_count": 60,
   "metadata": {
    "id": "iKKvbuEBOGFz"
   },
   "outputs": [
    {
     "name": "stderr",
     "output_type": "stream",
     "text": [
      "/opt/anaconda3/lib/python3.11/site-packages/keras/src/layers/core/embedding.py:90: UserWarning: Argument `input_length` is deprecated. Just remove it.\n",
      "  warnings.warn(\n"
     ]
    },
    {
     "data": {
      "text/html": [
       "<pre style=\"white-space:pre;overflow-x:auto;line-height:normal;font-family:Menlo,'DejaVu Sans Mono',consolas,'Courier New',monospace\"><span style=\"font-weight: bold\">Model: \"sequential_5\"</span>\n",
       "</pre>\n"
      ],
      "text/plain": [
       "\u001b[1mModel: \"sequential_5\"\u001b[0m\n"
      ]
     },
     "metadata": {},
     "output_type": "display_data"
    },
    {
     "data": {
      "text/html": [
       "<pre style=\"white-space:pre;overflow-x:auto;line-height:normal;font-family:Menlo,'DejaVu Sans Mono',consolas,'Courier New',monospace\">┏━━━━━━━━━━━━━━━━━━━━━━━━━━━━━━━━━┳━━━━━━━━━━━━━━━━━━━━━━━━┳━━━━━━━━━━━━━━━┓\n",
       "┃<span style=\"font-weight: bold\"> Layer (type)                    </span>┃<span style=\"font-weight: bold\"> Output Shape           </span>┃<span style=\"font-weight: bold\">       Param # </span>┃\n",
       "┡━━━━━━━━━━━━━━━━━━━━━━━━━━━━━━━━━╇━━━━━━━━━━━━━━━━━━━━━━━━╇━━━━━━━━━━━━━━━┩\n",
       "│ embedding_6 (<span style=\"color: #0087ff; text-decoration-color: #0087ff\">Embedding</span>)         │ ?                      │    <span style=\"color: #00af00; text-decoration-color: #00af00\">13,865,000</span> │\n",
       "├─────────────────────────────────┼────────────────────────┼───────────────┤\n",
       "│ bidirectional_5 (<span style=\"color: #0087ff; text-decoration-color: #0087ff\">Bidirectional</span>) │ ?                      │   <span style=\"color: #00af00; text-decoration-color: #00af00\">0</span> (unbuilt) │\n",
       "├─────────────────────────────────┼────────────────────────┼───────────────┤\n",
       "│ bidirectional_6 (<span style=\"color: #0087ff; text-decoration-color: #0087ff\">Bidirectional</span>) │ ?                      │   <span style=\"color: #00af00; text-decoration-color: #00af00\">0</span> (unbuilt) │\n",
       "├─────────────────────────────────┼────────────────────────┼───────────────┤\n",
       "│ dense_10 (<span style=\"color: #0087ff; text-decoration-color: #0087ff\">Dense</span>)                │ ?                      │   <span style=\"color: #00af00; text-decoration-color: #00af00\">0</span> (unbuilt) │\n",
       "├─────────────────────────────────┼────────────────────────┼───────────────┤\n",
       "│ dropout (<span style=\"color: #0087ff; text-decoration-color: #0087ff\">Dropout</span>)               │ ?                      │   <span style=\"color: #00af00; text-decoration-color: #00af00\">0</span> (unbuilt) │\n",
       "├─────────────────────────────────┼────────────────────────┼───────────────┤\n",
       "│ dense_11 (<span style=\"color: #0087ff; text-decoration-color: #0087ff\">Dense</span>)                │ ?                      │   <span style=\"color: #00af00; text-decoration-color: #00af00\">0</span> (unbuilt) │\n",
       "└─────────────────────────────────┴────────────────────────┴───────────────┘\n",
       "</pre>\n"
      ],
      "text/plain": [
       "┏━━━━━━━━━━━━━━━━━━━━━━━━━━━━━━━━━┳━━━━━━━━━━━━━━━━━━━━━━━━┳━━━━━━━━━━━━━━━┓\n",
       "┃\u001b[1m \u001b[0m\u001b[1mLayer (type)                   \u001b[0m\u001b[1m \u001b[0m┃\u001b[1m \u001b[0m\u001b[1mOutput Shape          \u001b[0m\u001b[1m \u001b[0m┃\u001b[1m \u001b[0m\u001b[1m      Param #\u001b[0m\u001b[1m \u001b[0m┃\n",
       "┡━━━━━━━━━━━━━━━━━━━━━━━━━━━━━━━━━╇━━━━━━━━━━━━━━━━━━━━━━━━╇━━━━━━━━━━━━━━━┩\n",
       "│ embedding_6 (\u001b[38;5;33mEmbedding\u001b[0m)         │ ?                      │    \u001b[38;5;34m13,865,000\u001b[0m │\n",
       "├─────────────────────────────────┼────────────────────────┼───────────────┤\n",
       "│ bidirectional_5 (\u001b[38;5;33mBidirectional\u001b[0m) │ ?                      │   \u001b[38;5;34m0\u001b[0m (unbuilt) │\n",
       "├─────────────────────────────────┼────────────────────────┼───────────────┤\n",
       "│ bidirectional_6 (\u001b[38;5;33mBidirectional\u001b[0m) │ ?                      │   \u001b[38;5;34m0\u001b[0m (unbuilt) │\n",
       "├─────────────────────────────────┼────────────────────────┼───────────────┤\n",
       "│ dense_10 (\u001b[38;5;33mDense\u001b[0m)                │ ?                      │   \u001b[38;5;34m0\u001b[0m (unbuilt) │\n",
       "├─────────────────────────────────┼────────────────────────┼───────────────┤\n",
       "│ dropout (\u001b[38;5;33mDropout\u001b[0m)               │ ?                      │   \u001b[38;5;34m0\u001b[0m (unbuilt) │\n",
       "├─────────────────────────────────┼────────────────────────┼───────────────┤\n",
       "│ dense_11 (\u001b[38;5;33mDense\u001b[0m)                │ ?                      │   \u001b[38;5;34m0\u001b[0m (unbuilt) │\n",
       "└─────────────────────────────────┴────────────────────────┴───────────────┘\n"
      ]
     },
     "metadata": {},
     "output_type": "display_data"
    },
    {
     "data": {
      "text/html": [
       "<pre style=\"white-space:pre;overflow-x:auto;line-height:normal;font-family:Menlo,'DejaVu Sans Mono',consolas,'Courier New',monospace\"><span style=\"font-weight: bold\"> Total params: </span><span style=\"color: #00af00; text-decoration-color: #00af00\">13,865,000</span> (52.89 MB)\n",
       "</pre>\n"
      ],
      "text/plain": [
       "\u001b[1m Total params: \u001b[0m\u001b[38;5;34m13,865,000\u001b[0m (52.89 MB)\n"
      ]
     },
     "metadata": {},
     "output_type": "display_data"
    },
    {
     "data": {
      "text/html": [
       "<pre style=\"white-space:pre;overflow-x:auto;line-height:normal;font-family:Menlo,'DejaVu Sans Mono',consolas,'Courier New',monospace\"><span style=\"font-weight: bold\"> Trainable params: </span><span style=\"color: #00af00; text-decoration-color: #00af00\">0</span> (0.00 B)\n",
       "</pre>\n"
      ],
      "text/plain": [
       "\u001b[1m Trainable params: \u001b[0m\u001b[38;5;34m0\u001b[0m (0.00 B)\n"
      ]
     },
     "metadata": {},
     "output_type": "display_data"
    },
    {
     "data": {
      "text/html": [
       "<pre style=\"white-space:pre;overflow-x:auto;line-height:normal;font-family:Menlo,'DejaVu Sans Mono',consolas,'Courier New',monospace\"><span style=\"font-weight: bold\"> Non-trainable params: </span><span style=\"color: #00af00; text-decoration-color: #00af00\">13,865,000</span> (52.89 MB)\n",
       "</pre>\n"
      ],
      "text/plain": [
       "\u001b[1m Non-trainable params: \u001b[0m\u001b[38;5;34m13,865,000\u001b[0m (52.89 MB)\n"
      ]
     },
     "metadata": {},
     "output_type": "display_data"
    },
    {
     "name": "stdout",
     "output_type": "stream",
     "text": [
      "Epoch 1/50\n",
      "4500/4500 - 45s - 10ms/step - accuracy: 0.7284 - loss: 0.5517 - val_accuracy: 0.7567 - val_loss: 0.4979\n",
      "Epoch 2/50\n",
      "4500/4500 - 49s - 11ms/step - accuracy: 0.7677 - loss: 0.4952 - val_accuracy: 0.7719 - val_loss: 0.4773\n",
      "Epoch 3/50\n",
      "4500/4500 - 52s - 12ms/step - accuracy: 0.7825 - loss: 0.4727 - val_accuracy: 0.7667 - val_loss: 0.4801\n",
      "Epoch 4/50\n",
      "4500/4500 - 48s - 11ms/step - accuracy: 0.7922 - loss: 0.4558 - val_accuracy: 0.7768 - val_loss: 0.4693\n",
      "Epoch 5/50\n",
      "4500/4500 - 53s - 12ms/step - accuracy: 0.7990 - loss: 0.4430 - val_accuracy: 0.7847 - val_loss: 0.4581\n",
      "Epoch 6/50\n",
      "4500/4500 - 57s - 13ms/step - accuracy: 0.8072 - loss: 0.4305 - val_accuracy: 0.7841 - val_loss: 0.4650\n",
      "Epoch 7/50\n",
      "4500/4500 - 53s - 12ms/step - accuracy: 0.8135 - loss: 0.4193 - val_accuracy: 0.7832 - val_loss: 0.4691\n",
      "Epoch 8/50\n",
      "4500/4500 - 57s - 13ms/step - accuracy: 0.8186 - loss: 0.4097 - val_accuracy: 0.7847 - val_loss: 0.4656\n",
      "Epoch 9/50\n",
      "4500/4500 - 54s - 12ms/step - accuracy: 0.8242 - loss: 0.4005 - val_accuracy: 0.7830 - val_loss: 0.4801\n",
      "Epoch 10/50\n",
      "4500/4500 - 56s - 13ms/step - accuracy: 0.8309 - loss: 0.3890 - val_accuracy: 0.7819 - val_loss: 0.4746\n",
      "Epoch 11/50\n",
      "4500/4500 - 53s - 12ms/step - accuracy: 0.8355 - loss: 0.3790 - val_accuracy: 0.7781 - val_loss: 0.4887\n",
      "Epoch 12/50\n",
      "4500/4500 - 60s - 13ms/step - accuracy: 0.8416 - loss: 0.3677 - val_accuracy: 0.7743 - val_loss: 0.5086\n",
      "Epoch 13/50\n",
      "4500/4500 - 60s - 13ms/step - accuracy: 0.8466 - loss: 0.3575 - val_accuracy: 0.7749 - val_loss: 0.5061\n",
      "Epoch 14/50\n",
      "4500/4500 - 55s - 12ms/step - accuracy: 0.8520 - loss: 0.3468 - val_accuracy: 0.7739 - val_loss: 0.5217\n",
      "Epoch 15/50\n",
      "4500/4500 - 61s - 13ms/step - accuracy: 0.8553 - loss: 0.3364 - val_accuracy: 0.7719 - val_loss: 0.5258\n",
      "Epoch 16/50\n",
      "4500/4500 - 63s - 14ms/step - accuracy: 0.8614 - loss: 0.3273 - val_accuracy: 0.7722 - val_loss: 0.5687\n",
      "Epoch 17/50\n",
      "4500/4500 - 55s - 12ms/step - accuracy: 0.8655 - loss: 0.3179 - val_accuracy: 0.7731 - val_loss: 0.5710\n",
      "Epoch 18/50\n",
      "4500/4500 - 57s - 13ms/step - accuracy: 0.8701 - loss: 0.3091 - val_accuracy: 0.7721 - val_loss: 0.6142\n",
      "Epoch 19/50\n",
      "4500/4500 - 54s - 12ms/step - accuracy: 0.8736 - loss: 0.3009 - val_accuracy: 0.7721 - val_loss: 0.6343\n",
      "Epoch 20/50\n",
      "4500/4500 - 54s - 12ms/step - accuracy: 0.8778 - loss: 0.2920 - val_accuracy: 0.7686 - val_loss: 0.6309\n",
      "Epoch 21/50\n",
      "4500/4500 - 54s - 12ms/step - accuracy: 0.8809 - loss: 0.2845 - val_accuracy: 0.7657 - val_loss: 0.6482\n",
      "Epoch 22/50\n",
      "4500/4500 - 55s - 12ms/step - accuracy: 0.8844 - loss: 0.2776 - val_accuracy: 0.7614 - val_loss: 0.6645\n",
      "Epoch 23/50\n",
      "4500/4500 - 52s - 12ms/step - accuracy: 0.8875 - loss: 0.2705 - val_accuracy: 0.7601 - val_loss: 0.6873\n",
      "Epoch 24/50\n",
      "4500/4500 - 55s - 12ms/step - accuracy: 0.8905 - loss: 0.2640 - val_accuracy: 0.7619 - val_loss: 0.6938\n",
      "Epoch 25/50\n",
      "4500/4500 - 56s - 12ms/step - accuracy: 0.8932 - loss: 0.2571 - val_accuracy: 0.7604 - val_loss: 0.6997\n",
      "Epoch 26/50\n",
      "4500/4500 - 62s - 14ms/step - accuracy: 0.8960 - loss: 0.2499 - val_accuracy: 0.7648 - val_loss: 0.7603\n",
      "Epoch 27/50\n",
      "4500/4500 - 60s - 13ms/step - accuracy: 0.8984 - loss: 0.2455 - val_accuracy: 0.7569 - val_loss: 0.7642\n",
      "Epoch 28/50\n",
      "4500/4500 - 65s - 15ms/step - accuracy: 0.9011 - loss: 0.2385 - val_accuracy: 0.7581 - val_loss: 0.7955\n",
      "Epoch 29/50\n",
      "4500/4500 - 60s - 13ms/step - accuracy: 0.9031 - loss: 0.2349 - val_accuracy: 0.7598 - val_loss: 0.7841\n",
      "Epoch 30/50\n",
      "4500/4500 - 60s - 13ms/step - accuracy: 0.9060 - loss: 0.2297 - val_accuracy: 0.7540 - val_loss: 0.8196\n",
      "Epoch 31/50\n",
      "4500/4500 - 62s - 14ms/step - accuracy: 0.9073 - loss: 0.2254 - val_accuracy: 0.7608 - val_loss: 0.8677\n",
      "Epoch 32/50\n",
      "4500/4500 - 68s - 15ms/step - accuracy: 0.9095 - loss: 0.2213 - val_accuracy: 0.7601 - val_loss: 0.8449\n",
      "Epoch 33/50\n",
      "4500/4500 - 52s - 12ms/step - accuracy: 0.9108 - loss: 0.2184 - val_accuracy: 0.7576 - val_loss: 0.8434\n",
      "Epoch 34/50\n",
      "4500/4500 - 59s - 13ms/step - accuracy: 0.9131 - loss: 0.2139 - val_accuracy: 0.7615 - val_loss: 0.9185\n",
      "Epoch 35/50\n",
      "4500/4500 - 60s - 13ms/step - accuracy: 0.9138 - loss: 0.2107 - val_accuracy: 0.7572 - val_loss: 0.8740\n",
      "Epoch 36/50\n",
      "4500/4500 - 60s - 13ms/step - accuracy: 0.9163 - loss: 0.2054 - val_accuracy: 0.7553 - val_loss: 0.9232\n",
      "Epoch 37/50\n",
      "4500/4500 - 61s - 14ms/step - accuracy: 0.9171 - loss: 0.2028 - val_accuracy: 0.7493 - val_loss: 0.9159\n",
      "Epoch 38/50\n",
      "4500/4500 - 59s - 13ms/step - accuracy: 0.9194 - loss: 0.1993 - val_accuracy: 0.7570 - val_loss: 1.0028\n",
      "Epoch 39/50\n",
      "4500/4500 - 61s - 13ms/step - accuracy: 0.9197 - loss: 0.1979 - val_accuracy: 0.7570 - val_loss: 1.0406\n",
      "Epoch 40/50\n",
      "4500/4500 - 63s - 14ms/step - accuracy: 0.9227 - loss: 0.1923 - val_accuracy: 0.7533 - val_loss: 0.9777\n",
      "Epoch 41/50\n",
      "4500/4500 - 62s - 14ms/step - accuracy: 0.9237 - loss: 0.1900 - val_accuracy: 0.7516 - val_loss: 0.9915\n",
      "Epoch 42/50\n",
      "4500/4500 - 57s - 13ms/step - accuracy: 0.9251 - loss: 0.1875 - val_accuracy: 0.7541 - val_loss: 1.0445\n",
      "Epoch 43/50\n",
      "4500/4500 - 50s - 11ms/step - accuracy: 0.9263 - loss: 0.1841 - val_accuracy: 0.7514 - val_loss: 1.0288\n",
      "Epoch 44/50\n",
      "4500/4500 - 58s - 13ms/step - accuracy: 0.9282 - loss: 0.1812 - val_accuracy: 0.7538 - val_loss: 1.0876\n",
      "Epoch 45/50\n",
      "4500/4500 - 58s - 13ms/step - accuracy: 0.9285 - loss: 0.1794 - val_accuracy: 0.7553 - val_loss: 1.1100\n",
      "Epoch 46/50\n",
      "4500/4500 - 55s - 12ms/step - accuracy: 0.9300 - loss: 0.1768 - val_accuracy: 0.7541 - val_loss: 1.0819\n",
      "Epoch 47/50\n",
      "4500/4500 - 52s - 12ms/step - accuracy: 0.9306 - loss: 0.1748 - val_accuracy: 0.7456 - val_loss: 1.0715\n",
      "Epoch 48/50\n",
      "4500/4500 - 56s - 13ms/step - accuracy: 0.9310 - loss: 0.1740 - val_accuracy: 0.7466 - val_loss: 1.0516\n",
      "Epoch 49/50\n",
      "4500/4500 - 55s - 12ms/step - accuracy: 0.9327 - loss: 0.1697 - val_accuracy: 0.7534 - val_loss: 1.1329\n",
      "Epoch 50/50\n",
      "4500/4500 - 65s - 14ms/step - accuracy: 0.9333 - loss: 0.1685 - val_accuracy: 0.7505 - val_loss: 1.1030\n",
      "Training Complete\n"
     ]
    }
   ],
   "source": [
    "model = tf.keras.Sequential([\n",
    "    tf.keras.layers.Embedding(vocab_size+1, embedding_dim, input_length=max_length, weights=[embeddings_matrix], trainable=False),\n",
    "    tf.keras.layers.Bidirectional(tf.keras.layers.LSTM(32, return_sequences=True)),\n",
    "    tf.keras.layers.Bidirectional(tf.keras.layers.LSTM(32)),\n",
    "    tf.keras.layers.Dense(24, activation='relu', kernel_regularizer=tf.keras.regularizers.l2(0.001)),\n",
    "    tf.keras.layers.Dropout(0.5),\n",
    "    tf.keras.layers.Dense(1, activation='sigmoid')\n",
    "])\n",
    "model.compile(loss='binary_crossentropy',optimizer='adam',metrics=['accuracy'])\n",
    "model.summary()\n",
    "\n",
    "num_epochs = 50\n",
    "history = model.fit(training_sequences, training_labels, epochs=num_epochs, validation_data=(test_sequences, test_labels), verbose=2)\n",
    "\n",
    "print(\"Training Complete\")\n"
   ]
  },
  {
   "cell_type": "code",
   "execution_count": 61,
   "metadata": {
    "id": "qxju4ItJKO8F"
   },
   "outputs": [
    {
     "data": {
      "text/plain": [
       "<Figure size 640x480 with 0 Axes>"
      ]
     },
     "execution_count": 61,
     "metadata": {},
     "output_type": "execute_result"
    },
    {
     "data": {
      "image/png": "[encoded data removed]",
      "text/plain": [
       "<Figure size 640x480 with 1 Axes>"
      ]
     },
     "metadata": {},
     "output_type": "display_data"
    },
    {
     "data": {
      "image/png": "[encoded data removed]",
      "text/plain": [
       "<Figure size 640x480 with 1 Axes>"
      ]
     },
     "metadata": {},
     "output_type": "display_data"
    },
    {
     "data": {
      "text/plain": [
       "<Figure size 640x480 with 0 Axes>"
      ]
     },
     "metadata": {},
     "output_type": "display_data"
    }
   ],
   "source": [
    "import matplotlib.image  as mpimg\n",
    "import matplotlib.pyplot as plt\n",
    "\n",
    "#-----------------------------------------------------------\n",
    "# Retrieve a list of list results on training and test data\n",
    "# sets for each training epoch\n",
    "#-----------------------------------------------------------\n",
    "acc=history.history['accuracy']\n",
    "val_acc=history.history['val_accuracy']\n",
    "loss=history.history['loss']\n",
    "val_loss=history.history['val_loss']\n",
    "\n",
    "epochs=range(len(acc)) # Get number of epochs\n",
    "\n",
    "#------------------------------------------------\n",
    "# Plot training and validation accuracy per epoch\n",
    "#------------------------------------------------\n",
    "plt.plot(epochs, acc, 'r')\n",
    "plt.plot(epochs, val_acc, 'b')\n",
    "plt.title('Training and validation accuracy')\n",
    "plt.xlabel(\"Epochs\")\n",
    "plt.ylabel(\"Accuracy\")\n",
    "plt.legend([\"Accuracy\", \"Validation Accuracy\"])\n",
    "\n",
    "plt.figure()\n",
    "\n",
    "#------------------------------------------------\n",
    "# Plot training and validation loss per epoch\n",
    "#------------------------------------------------\n",
    "plt.plot(epochs, loss, 'r')\n",
    "plt.plot(epochs, val_loss, 'b')\n",
    "plt.title('Training and validation loss')\n",
    "plt.xlabel(\"Epochs\")\n",
    "plt.ylabel(\"Loss\")\n",
    "plt.legend([\"Loss\", \"Validation Loss\"])\n",
    "\n",
    "plt.figure()\n",
    "\n",
    "\n",
    "# Expected Output\n",
    "# A chart where the validation loss does not increase sharply!"
   ]
  }
 ],
 "metadata": {
  "accelerator": "GPU",
  "colab": {
   "name": "NLP Course - Week 3 Exercise Question.ipynb",
   "provenance": [],
   "toc_visible": true
  },
  "kernelspec": {
   "display_name": "Python 3 (ipykernel)",
   "language": "python",
   "name": "python3"
  },
  "language_info": {
   "codemirror_mode": {
    "name": "ipython",
    "version": 3
   },
   "file_extension": ".py",
   "mimetype": "text/x-python",
   "name": "python",
   "nbconvert_exporter": "python",
   "pygments_lexer": "ipython3",
   "version": "3.1.undefined"
  }
 },
 "nbformat": 4,
 "nbformat_minor": 4
}
